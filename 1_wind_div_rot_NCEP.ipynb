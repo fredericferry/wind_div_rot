{
 "cells": [
  {
   "cell_type": "markdown",
   "metadata": {},
   "source": [
    "# Diagnostics vent géostrophique, divergence et tourbillon\n",
    "\n",
    "Auteur : FERRY Frédéric (DESR/ENM/C3M) - novembre 2021\n",
    "\n",
    "On utilise ici les données quotidiennes NCEP de géopotentiel, vent zonal, vent méridien et vitesse verticale pour l'année 2016. Pour récupérer les données d'autres années aller à l'adresse suivante : ftp://ftp2.psl.noaa.gov/Datasets/ncep.reanalysis.dailyavgs/pressure/\n",
    "\n",
    "Concepts illustrés :\n",
    "\n",
    "- Tracé de champs de géopotentiel et de vent horizontal\n",
    "- Diagnostic du vent géostrophique à partir du champ de géopotentiel\n",
    "- Calcul du du vent agéostrophique et lien avec les vitesses verticales de grande échelle\n",
    "- Calcul de la divergence du vent\n",
    "- Calcul de la composante verticale du tourbillon\n",
    "- Tracé de cartes (cartopy)"
   ]
  },
  {
   "cell_type": "markdown",
   "metadata": {},
   "source": [
    "<div class=\"alert alert-warning\">\n",
    "<b>En jaune : </b> code à compléter\n",
    "</div>"
   ]
  },
  {
   "cell_type": "code",
   "execution_count": null,
   "metadata": {},
   "outputs": [],
   "source": [
    "import os\n",
    "\n",
    "import numpy as np\n",
    "\n",
    "import xarray as xr\n",
    "\n",
    "import matplotlib.pyplot as plt\n",
    "import cartopy.crs as ccrs\n",
    "from cartopy.mpl.geoaxes import GeoAxes\n",
    "from cartopy.mpl.ticker import LongitudeFormatter, LatitudeFormatter\n",
    "from mpl_toolkits.axes_grid1 import AxesGrid\n",
    "\n",
    "import shapely.geometry as sgeom\n",
    "from area import area\n",
    "\n",
    "import warnings\n",
    "warnings.filterwarnings('ignore')"
   ]
  },
  {
   "cell_type": "raw",
   "metadata": {},
   "source": [
    "Dossiers des données et des figures."
   ]
  },
  {
   "cell_type": "code",
   "execution_count": null,
   "metadata": {},
   "outputs": [],
   "source": [
    "diri=\"./data/\"\n",
    "dir_figs=\"./figs/\"\n",
    "if not os.path.exists(dir_figs):\n",
    "    os.makedirs(dir_figs)"
   ]
  },
  {
   "cell_type": "raw",
   "metadata": {},
   "source": [
    "Constantes."
   ]
  },
  {
   "cell_type": "code",
   "execution_count": null,
   "metadata": {},
   "outputs": [],
   "source": [
    "re=6.37e6\n",
    "g=9.81\n",
    "omega=7.292e-5"
   ]
  },
  {
   "cell_type": "markdown",
   "metadata": {},
   "source": [
    "# Ouverture des données"
   ]
  },
  {
   "cell_type": "raw",
   "metadata": {},
   "source": [
    "Date, niveaux verticaux."
   ]
  },
  {
   "cell_type": "code",
   "execution_count": null,
   "metadata": {},
   "outputs": [],
   "source": [
    "year='2016'\n",
    "month='01'\n",
    "day='15'\n",
    "date=year+'-'+month+'-'+day\n",
    "\n",
    "zlev=300\n",
    "ulev=300\n",
    "wlev=600"
   ]
  },
  {
   "cell_type": "raw",
   "metadata": {},
   "source": [
    "Ouverture des données netcdf pour les niveaux verticaux et la date choisis."
   ]
  },
  {
   "cell_type": "code",
   "execution_count": null,
   "metadata": {
    "scrolled": false
   },
   "outputs": [],
   "source": [
    "#--  Read z, t, u, v, w data for specified vertical level\n",
    "fz    = xr.open_dataset(diri+'hgt.'+year+'.nc').sel(level=zlev).sel(time=date).squeeze()\n",
    "fu    = xr.open_dataset(diri+'uwnd.'+year+'.nc').sel(level=ulev).sel(time=date).squeeze()\n",
    "fv    = xr.open_dataset(diri+'vwnd.'+year+'.nc').sel(level=ulev).sel(time=date).squeeze()\n",
    "fw    = xr.open_dataset(diri+'omega.'+year+'.nc').sel(level=wlev).sel(time=date).squeeze()\n",
    "\n",
    "print(fz)\n",
    "print(fu)\n",
    "print(fv)\n",
    "print(fw)\n",
    "\n",
    "#--  Extract variables\n",
    "z0 = fz['hgt']\n",
    "u0 = fu['uwnd']\n",
    "v0 = fv['vwnd']\n",
    "w0 = fw['omega']\n",
    "print(z0.shape)"
   ]
  },
  {
   "cell_type": "raw",
   "metadata": {},
   "source": [
    "Fonction de conversion des longitudes 0 - 360 en -180 - 180."
   ]
  },
  {
   "cell_type": "code",
   "execution_count": null,
   "metadata": {
    "scrolled": true
   },
   "outputs": [],
   "source": [
    "def lonflip(da):\n",
    "    lon_name = 'lon'\n",
    "    da['_longitude_adjusted'] = xr.where(\n",
    "        da[lon_name] > 180,\n",
    "        da[lon_name] - 360,\n",
    "        da[lon_name])\n",
    "    da = (\n",
    "        da\n",
    "        .swap_dims({lon_name: '_longitude_adjusted'})\n",
    "        .sel(**{'_longitude_adjusted': sorted(da._longitude_adjusted)})\n",
    "        .drop(lon_name))\n",
    "    da = da.rename({'_longitude_adjusted': lon_name})\n",
    "    return da"
   ]
  },
  {
   "cell_type": "raw",
   "metadata": {},
   "source": [
    "Conversion des longitudes en -180 à 180 pour tous les champs."
   ]
  },
  {
   "cell_type": "code",
   "execution_count": null,
   "metadata": {
    "scrolled": true
   },
   "outputs": [],
   "source": [
    "z1 = lonflip(z0)\n",
    "u1 = lonflip(u0)\n",
    "v1 = lonflip(v0)\n",
    "w1 = lonflip(w0)\n",
    "\n",
    "lon0  = z1.lon.values"
   ]
  },
  {
   "cell_type": "raw",
   "metadata": {},
   "source": [
    "Selection des données sur un sous-domaine géographique."
   ]
  },
  {
   "cell_type": "code",
   "execution_count": null,
   "metadata": {
    "scrolled": false
   },
   "outputs": [],
   "source": [
    "latS = 30\n",
    "latN = 70\n",
    "lonW = -90\n",
    "lonE = 20\n",
    "\n",
    "z=z1.sel(lat=slice(latN,latS)).sel(lon=slice(lonW,lonE))\n",
    "u=u1.sel(lat=slice(latN,latS)).sel(lon=slice(lonW,lonE))\n",
    "v=v1.sel(lat=slice(latN,latS)).sel(lon=slice(lonW,lonE))\n",
    "w=w1.sel(lat=slice(latN,latS)).sel(lon=slice(lonW,lonE))\n",
    "\n",
    "print(z.shape)\n",
    "\n",
    "lon  = z.lon.values\n",
    "lat  = z.lat.values\n",
    "\n",
    "print('Latitudes : ', lat)\n",
    "print('Longitudes : ', lon)"
   ]
  },
  {
   "cell_type": "markdown",
   "metadata": {},
   "source": [
    "# Diagnostics"
   ]
  },
  {
   "cell_type": "raw",
   "metadata": {},
   "source": [
    "Matrices 2D des coordonnées à partir des vecteurs lon et lat"
   ]
  },
  {
   "cell_type": "code",
   "execution_count": null,
   "metadata": {
    "scrolled": false
   },
   "outputs": [],
   "source": [
    "xlon,ylat=np.meshgrid(lon,lat)\n",
    "\n",
    "print(xlon.shape) # lon x lat\n",
    "print(ylat.shape) # lon x lat"
   ]
  },
  {
   "cell_type": "raw",
   "metadata": {},
   "source": [
    "Calcul des d𝛗 et dλ en degrés (fonction numpy.gradient)."
   ]
  },
  {
   "cell_type": "code",
   "execution_count": null,
   "metadata": {
    "scrolled": false
   },
   "outputs": [],
   "source": [
    "dlony,dlonx=np.gradient(xlon)\n",
    "dlaty,dlatx=np.gradient(ylat)\n",
    "\n",
    "#print(dlonx)\n",
    "#print(dlaty)"
   ]
  },
  {
   "cell_type": "raw",
   "metadata": {},
   "source": [
    "Calcul des dx et dy sur la sphère en mètres."
   ]
  },
  {
   "cell_type": "markdown",
   "metadata": {},
   "source": [
    "$$dx = a cos(\\phi)d\\lambda$$\n",
    "$$dy = a d\\phi$$"
   ]
  },
  {
   "cell_type": "code",
   "execution_count": null,
   "metadata": {
    "scrolled": false
   },
   "outputs": [],
   "source": [
    "dx=re*np.cos(ylat*np.pi/180)*dlonx*np.pi/180\n",
    "dy=re*dlaty*np.pi/180"
   ]
  },
  {
   "cell_type": "raw",
   "metadata": {},
   "source": [
    "Calcul du paramètre de Coriolis (tableau lat x lon)."
   ]
  },
  {
   "cell_type": "markdown",
   "metadata": {},
   "source": [
    "<div class=\"alert alert-warning\">\n",
    "<b>Complétez le code avec le calcul du paramètre de Coriolis (f) : </b>\n",
    "$$f = 2\\Omega sin(\\phi)$$\n",
    "</div>"
   ]
  },
  {
   "cell_type": "code",
   "execution_count": null,
   "metadata": {
    "scrolled": false
   },
   "outputs": [],
   "source": [
    "f="
   ]
  },
  {
   "cell_type": "raw",
   "metadata": {},
   "source": [
    "Calcul des vents géostrophique et agéostrophique."
   ]
  },
  {
   "cell_type": "markdown",
   "metadata": {},
   "source": [
    "<div class=\"alert alert-warning\">\n",
    "<b>Complétez le code avec le calcul du vent géostrophique (ug, vg) : </b>\n",
    "$$u_g = -\\frac{g}{f} \\frac{\\partial z}{\\partial y}$$\n",
    "$$v_g = \\frac{g}{f} \\frac{\\partial z}{\\partial x}$$\n",
    "</div>\n",
    "\n",
    "<div class=\"alert alert-warning\">\n",
    "<b>Complétez le code avec le calcul du vent agéostrophique (ua, va) : </b>\n",
    "$$u_a = u - u_g$$\n",
    "$$v_a = v - v_g$$\n",
    "</div>"
   ]
  },
  {
   "cell_type": "code",
   "execution_count": null,
   "metadata": {
    "scrolled": false
   },
   "outputs": [],
   "source": [
    "# calculate derivatives\n",
    "dzdx=np.gradient(z,axis=1)/dx\n",
    "dzdy=np.gradient(z,axis=0)/dy\n",
    "\n",
    "# calculate geostrophic wind\n",
    "ug=\n",
    "vg=\n",
    "\n",
    "# calculate ageostrophic wind\n",
    "ua=\n",
    "va="
   ]
  },
  {
   "cell_type": "raw",
   "metadata": {},
   "source": [
    "Calcul des modules des vents (horizontal, géostrophique, agéostrophique)"
   ]
  },
  {
   "cell_type": "markdown",
   "metadata": {},
   "source": [
    "<div class=\"alert alert-warning\">\n",
    "<b>Complétez le code avec le calcul des modules des vents (horizontal, géostrophique, agéostrophique). </b>\n",
    "</div>"
   ]
  },
  {
   "cell_type": "code",
   "execution_count": null,
   "metadata": {},
   "outputs": [],
   "source": [
    "hwind_mod=\n",
    "gwind_mod=\n",
    "awind_mod="
   ]
  },
  {
   "cell_type": "raw",
   "metadata": {},
   "source": [
    "Calcul des champs de divergence (horizontale, géostrophique, agéostrophique) du vent et de tourbillon (relatif, géostrophique, agéostrophique)"
   ]
  },
  {
   "cell_type": "markdown",
   "metadata": {},
   "source": [
    "<div class=\"alert alert-warning\">\n",
    "<b>Complétez le code avec le calcul de la divergence horizontale (div) et de la divergence géostrophique (divg) :</b>\n",
    "$$div(\\vec{V}_h) = \\frac{\\partial u}{\\partial x}+\\frac{\\partial v}{\\partial y}-\\frac{v}{a}tan(\\phi)$$\n",
    "$$div(\\vec{V}_g) = \\frac{\\partial u_g}{\\partial x}+\\frac{\\partial v_g}{\\partial y}-\\frac{v_g}{a}tan(\\phi)$$\n",
    "</div>\n",
    "\n",
    "<div class=\"alert alert-warning\">\n",
    "<b>Complétez le code avec le calcul du tourbillon relatif (vort) et du tourbillon géostrophique (vortg) :</b>\n",
    "$$\\xi = \\frac{\\partial v}{\\partial x}-\\frac{\\partial u}{\\partial y}+\\frac{u}{a}tan(\\phi)$$\n",
    "$$\\xi_g = \\frac{\\partial v_g}{\\partial x}-\\frac{\\partial u_g}{\\partial y}+\\frac{u_g}{a}tan(\\phi)$$\n",
    "</div>\n",
    "\n",
    "<div class=\"alert alert-warning\">\n",
    "<b>Complétez le code avec le calcul de la divergence agéostrophique (diva) et du tourbillon agéostrophique (vorta) : </b>\n",
    "$$div(\\vec{V}_a) = \\frac{\\partial u_a}{\\partial x}+\\frac{\\partial v_a}{\\partial y}-\\frac{v_a}{a}tan(\\phi)$$\n",
    "$$\\xi_a = \\frac{\\partial v_a}{\\partial x}-\\frac{\\partial u_a}{\\partial y}+\\frac{u_a}{a}tan(\\phi)$$\n",
    "</div>"
   ]
  },
  {
   "cell_type": "code",
   "execution_count": null,
   "metadata": {},
   "outputs": [],
   "source": [
    "# calculate derivatives\n",
    "dudx=np.gradient(u,axis=1)/dx\n",
    "dvdx=np.gradient(v,axis=1)/dx\n",
    "dudy=np.gradient(u,axis=0)/dy\n",
    "dvdy=np.gradient(v,axis=0)/dy\n",
    "\n",
    "dugdx=np.gradient(ug,axis=1)/dx\n",
    "dvgdx=np.gradient(vg,axis=1)/dx\n",
    "dugdy=np.gradient(ug,axis=0)/dy\n",
    "dvgdy=np.gradient(vg,axis=0)/dy\n",
    "\n",
    "duadx=np.gradient(ua,axis=1)/dx\n",
    "dvadx=np.gradient(va,axis=1)/dx\n",
    "duady=np.gradient(ua,axis=0)/dy\n",
    "dvady=np.gradient(va,axis=0)/dy\n",
    "\n",
    "# Divergence and vorticity\n",
    "div=\n",
    "divg=\n",
    "diva=\n",
    "\n",
    "vort=\n",
    "vortg=\n",
    "vorta="
   ]
  },
  {
   "cell_type": "markdown",
   "metadata": {},
   "source": [
    "# Tracés de cartes"
   ]
  },
  {
   "cell_type": "raw",
   "metadata": {},
   "source": [
    "Fonction pour les fonds de carte."
   ]
  },
  {
   "cell_type": "code",
   "execution_count": null,
   "metadata": {},
   "outputs": [],
   "source": [
    "def plot_background(ax):\n",
    "    ax.coastlines()\n",
    "    ax.set_xticks(np.linspace(-180, 180, 19), crs=projection)\n",
    "    ax.set_yticks(np.linspace(-90, 90, 19), crs=projection)\n",
    "    lon_formatter = LongitudeFormatter(zero_direction_label=True)\n",
    "    lat_formatter = LatitudeFormatter()\n",
    "    ax.xaxis.set_major_formatter(lon_formatter)\n",
    "    ax.yaxis.set_major_formatter(lat_formatter)\n",
    "    return ax"
   ]
  },
  {
   "cell_type": "raw",
   "metadata": {},
   "source": [
    "Echelles de valeurs, projection et domaine de tracé."
   ]
  },
  {
   "cell_type": "code",
   "execution_count": null,
   "metadata": {},
   "outputs": [],
   "source": [
    "levels_z = np.arange(int(z.min()),int(z.max()),100)\n",
    "levels_w = np.arange(-0.5,0.6,0.1)\n",
    "levels_wind = np.arange(30,72.5,2.5)\n",
    "levels_div = np.arange(-20,21,1)\n",
    "levels_vor = np.arange(-10,11,1)\n",
    "levels_f = np.arange(0,2.1,0.1)\n",
    "\n",
    "wind_slice = slice(None, None, 2)\n",
    "\n",
    "#projection = ccrs.Orthographic(central_longitude=0, central_latitude=45)\n",
    "projection = ccrs.PlateCarree()\n",
    "bounds = [(lonW, lonE, latS, latN)]"
   ]
  },
  {
   "cell_type": "raw",
   "metadata": {},
   "source": [
    "Tracé du paramètre de Coriolis"
   ]
  },
  {
   "cell_type": "code",
   "execution_count": null,
   "metadata": {
    "scrolled": false
   },
   "outputs": [],
   "source": [
    "fig = plt.figure(figsize=(15., 8.))\n",
    "ax = fig.add_subplot(1, 1, 1, projection=projection)\n",
    "ax.set_title('Coriolis parameter', loc='center', fontsize=10)\n",
    "plot_background(ax)\n",
    "ax.set_extent(*bounds, crs=ccrs.PlateCarree())\n",
    "\n",
    "cf = ax.contourf(lon, lat, f*10**4, levels_f, transform=ccrs.PlateCarree(), cmap='jet', extend='both')\n",
    "cb = fig.colorbar(cf, orientation='horizontal')\n",
    "cb.set_label('10$^{-4}$ s$^{-1}$')\n",
    "c = ax.contour(lon, lat, f*10**4, levels_f, colors='black', linewidths=1, transform=ccrs.PlateCarree())\n",
    "ax.clabel(c, fmt='%4.1f', fontsize=10)\n",
    "\n",
    "figname=dir_figs+'Coriolis_'+date\n",
    "plt.savefig(figname+'.png',bbox_inches='tight')\n",
    "\n",
    "plt.show()"
   ]
  },
  {
   "cell_type": "raw",
   "metadata": {},
   "source": [
    "Tracé des cartes du vent horizontal et des lignes de flux à 300hPa."
   ]
  },
  {
   "cell_type": "code",
   "execution_count": null,
   "metadata": {
    "scrolled": false
   },
   "outputs": [],
   "source": [
    "fig = plt.figure(figsize=(12., 12.))\n",
    "fig.suptitle('Winds at '+str(ulev)+' hPa : '+date, fontsize=16)\n",
    "\n",
    "ax = fig.add_subplot(2, 1, 1, projection=projection)\n",
    "ax.set_title('Horizontal wind', loc='center', fontsize=10)\n",
    "plot_background(ax)\n",
    "ax.set_extent(*bounds, crs=ccrs.PlateCarree())\n",
    "cf = ax.contourf(lon, lat, hwind_mod, levels_wind, transform=ccrs.PlateCarree(), cmap='Spectral_r', extend='max')\n",
    "cb = fig.colorbar(cf, orientation='horizontal')\n",
    "cb.set_label('m/s')\n",
    "\n",
    "wind = ax.barbs(lon[wind_slice], lat[wind_slice],\n",
    "                u[wind_slice, wind_slice], v[wind_slice, wind_slice],\n",
    "                color='red', length=6,sizes=dict(emptybarb=0.25, spacing=.2, height=0.5),\n",
    "                zorder = 10, linewidth=0.95, transform= ccrs.PlateCarree())\n",
    "\n",
    "ax = fig.add_subplot(2, 1, 2, projection=projection)\n",
    "ax.set_title('Streamlines', loc='center', fontsize=10)\n",
    "plot_background(ax)\n",
    "ax.set_extent(*bounds, crs=ccrs.PlateCarree())\n",
    "\n",
    "c2= ax.streamplot(lon, lat, np.array(u), np.array(v), transform=ccrs.PlateCarree(),\n",
    "                  linewidth=1, density=2, color=np.array(hwind_mod))\n",
    "\n",
    "figname=dir_figs+'wind_'+str(zlev)+'_'+date\n",
    "plt.savefig(figname+'.png',bbox_inches='tight')\n",
    "\n",
    "plt.show()"
   ]
  },
  {
   "cell_type": "raw",
   "metadata": {},
   "source": [
    "Tracé des cartes du géopotentiel et du vent horizontal à 300hPa."
   ]
  },
  {
   "cell_type": "code",
   "execution_count": null,
   "metadata": {
    "scrolled": false
   },
   "outputs": [],
   "source": [
    "fig = plt.figure(figsize=(12., 12.))\n",
    "fig.suptitle('Geopotential height and winds at '+str(ulev)+' hPa : '+date, fontsize=16)\n",
    "\n",
    "ax = fig.add_subplot(2, 1, 1, projection=projection)\n",
    "ax.set_title('Geopotential height and horizontal wind', loc='center', fontsize=10)\n",
    "plot_background(ax)\n",
    "ax.set_extent(*bounds, crs=ccrs.PlateCarree())\n",
    "                \n",
    "c = ax.contour(lon, lat, z, levels_z, colors='black', linewidths=1, transform=ccrs.PlateCarree())\n",
    "ax.clabel(c, fmt='%4.1i', fontsize=10)\n",
    "\n",
    "wind = ax.barbs(lon[wind_slice], lat[wind_slice],\n",
    "                u[wind_slice, wind_slice], v[wind_slice, wind_slice],\n",
    "                color='red', length=6,sizes=dict(emptybarb=0.25, spacing=.2, height=0.5),\n",
    "                zorder = 10, linewidth=0.95, transform= ccrs.PlateCarree())\n",
    "\n",
    "ax = fig.add_subplot(2, 1, 2, projection=projection)\n",
    "ax.set_title('Geopotential height and streamlines', loc='center', fontsize=10)\n",
    "plot_background(ax)\n",
    "ax.set_extent(*bounds, crs=ccrs.PlateCarree())\n",
    "\n",
    "c = ax.contour(lon, lat, z, levels_z, colors='black', linewidths=1, transform=ccrs.PlateCarree())\n",
    "ax.clabel(c, fmt='%4.1i', fontsize=10)\n",
    "c2= ax.streamplot(lon, lat, np.array(u), np.array(v), transform=ccrs.PlateCarree(),\n",
    "                  linewidth=1, density=2, color=np.array(hwind_mod))\n",
    "\n",
    "figname=dir_figs+'Z_wind_'+str(zlev)+'_'+date\n",
    "plt.savefig(figname+'.png',bbox_inches='tight')\n",
    "\n",
    "plt.show()"
   ]
  },
  {
   "cell_type": "raw",
   "metadata": {},
   "source": [
    "Tracé des cartes du géopotentiel et de vents à 300hPa (horizontal/géostrophique/agéostrophique)."
   ]
  },
  {
   "cell_type": "code",
   "execution_count": null,
   "metadata": {
    "scrolled": false
   },
   "outputs": [],
   "source": [
    "fig = plt.figure(figsize=(10., 17.))\n",
    "fig.suptitle('Geopotential height and winds at '+str(ulev)+' hPa : '+date, fontsize=16)\n",
    "\n",
    "ax = fig.add_subplot(3, 1, 1, projection=projection)\n",
    "ax.set_title('Geopotential height and horizontal wind', loc='center', fontsize=10)\n",
    "plot_background(ax)\n",
    "ax.set_extent(*bounds, crs=ccrs.PlateCarree())\n",
    "                \n",
    "c = ax.contour(lon, lat, z, levels_z, colors='black', linewidths=1, transform=ccrs.PlateCarree())\n",
    "ax.clabel(c, fmt='%4.1i', fontsize=10)\n",
    "\n",
    "wind = ax.barbs(lon[wind_slice], lat[wind_slice],\n",
    "                u[wind_slice, wind_slice], v[wind_slice, wind_slice],\n",
    "                color='red', length=6,sizes=dict(emptybarb=0.25, spacing=.2, height=0.5),\n",
    "                zorder = 10, linewidth=0.95, transform= ccrs.PlateCarree())\n",
    "\n",
    "ax = fig.add_subplot(3, 1, 2, projection=projection)\n",
    "ax.set_title('Geopotential height and geostrophic wind', loc='center', fontsize=10)\n",
    "plot_background(ax)\n",
    "ax.set_extent(*bounds, crs=ccrs.PlateCarree())\n",
    "                \n",
    "c = ax.contour(lon, lat, z, levels_z, colors='black', linewidths=1, transform=ccrs.PlateCarree())\n",
    "ax.clabel(c, fmt='%4.1i', fontsize=10)\n",
    "wind = ax.barbs(lon[wind_slice], lat[wind_slice],\n",
    "                ug[wind_slice, wind_slice], vg[wind_slice, wind_slice],\n",
    "                color='red', length=6,sizes=dict(emptybarb=0.25, spacing=.2, height=0.5),\n",
    "                zorder = 10, linewidth=0.95, transform= ccrs.PlateCarree())\n",
    "\n",
    "ax = fig.add_subplot(3, 1, 3, projection=projection)\n",
    "ax.set_title('Geopotential height and ageostrophic wind', loc='center', fontsize=10)\n",
    "plot_background(ax)\n",
    "ax.set_extent(*bounds, crs=ccrs.PlateCarree())\n",
    "                \n",
    "c = ax.contour(lon, lat, z, levels_z, colors='black', linewidths=1, transform=ccrs.PlateCarree())\n",
    "ax.clabel(c, fmt='%4.1i', fontsize=10)\n",
    "wind = ax.barbs(lon[wind_slice], lat[wind_slice],\n",
    "                ua[wind_slice, wind_slice], va[wind_slice, wind_slice],\n",
    "                color='red', length=6,sizes=dict(emptybarb=0.25, spacing=.2, height=0.5),\n",
    "                zorder = 10, linewidth=0.95, transform= ccrs.PlateCarree())\n",
    "\n",
    "figname=dir_figs+'Z_vh_vg_va_'+str(zlev)+'_'+date\n",
    "plt.savefig(figname+'.png',bbox_inches='tight')\n",
    "\n",
    "plt.show()"
   ]
  },
  {
   "cell_type": "raw",
   "metadata": {},
   "source": [
    "Tracé des cartes du géopotentiel et du module des vents à 300hPa, ainsi que du vent agéostrophique à 300hPa et de la vitesse verticale à 600hPa."
   ]
  },
  {
   "cell_type": "code",
   "execution_count": null,
   "metadata": {
    "scrolled": false
   },
   "outputs": [],
   "source": [
    "fig = plt.figure(figsize=(10., 17.))\n",
    "fig.suptitle('Geopotential height and winds at '+str(ulev)+' hPa : '+date, fontsize=16)\n",
    "\n",
    "ax = fig.add_subplot(4, 1, 1, projection=projection)\n",
    "ax.set_title('Geopotential height and horizontal wind', loc='center', fontsize=10)\n",
    "plot_background(ax)\n",
    "ax.set_extent(*bounds, crs=ccrs.PlateCarree())\n",
    "                \n",
    "c = ax.contour(lon, lat, z, levels_z, colors='black', linewidths=1, transform=ccrs.PlateCarree())\n",
    "ax.clabel(c, fmt='%4.1i', fontsize=10)\n",
    "cf = ax.contourf(lon, lat, hwind_mod, levels_wind, transform=ccrs.PlateCarree(), cmap='Spectral_r', extend='max')\n",
    "cb = fig.colorbar(cf, orientation='vertical')\n",
    "cb.set_label('m/s')\n",
    "                  \n",
    "wind = ax.barbs(lon[wind_slice], lat[wind_slice],\n",
    "                u[wind_slice, wind_slice], v[wind_slice, wind_slice],\n",
    "                color='red', length=6,sizes=dict(emptybarb=0.25, spacing=.2, height=0.5),\n",
    "                zorder = 10, linewidth=0.95, transform= ccrs.PlateCarree())\n",
    "\n",
    "ax = fig.add_subplot(4, 1, 2, projection=projection)\n",
    "ax.set_title('Geopotential height and geostrophic wind', loc='center', fontsize=10)\n",
    "plot_background(ax)\n",
    "ax.set_extent(*bounds, crs=ccrs.PlateCarree())\n",
    "                \n",
    "c = ax.contour(lon, lat, z, levels_z, colors='black', linewidths=1, transform=ccrs.PlateCarree())\n",
    "ax.clabel(c, fmt='%4.1i', fontsize=10)\n",
    "cf = ax.contourf(lon, lat, gwind_mod, levels_wind, transform=ccrs.PlateCarree(), cmap='Spectral_r', extend='max')\n",
    "cb = fig.colorbar(cf, orientation='vertical')\n",
    "cb.set_label('m/s')\n",
    "\n",
    "wind = ax.barbs(lon[wind_slice], lat[wind_slice],\n",
    "                ug[wind_slice, wind_slice], vg[wind_slice, wind_slice],\n",
    "                color='red', length=6,sizes=dict(emptybarb=0.25, spacing=.2, height=0.5),\n",
    "                zorder = 10, linewidth=0.95, transform= ccrs.PlateCarree())\n",
    "\n",
    "ax = fig.add_subplot(4, 1, 3, projection=projection)\n",
    "ax.set_title('Geopotential height and ageostrophic wind', loc='center', fontsize=10)\n",
    "plot_background(ax)\n",
    "ax.set_extent(*bounds, crs=ccrs.PlateCarree())\n",
    "                \n",
    "c = ax.contour(lon, lat, z, levels_z, colors='black', linewidths=1, transform=ccrs.PlateCarree())\n",
    "ax.clabel(c, fmt='%4.1i', fontsize=10)\n",
    "#cf = ax.contourf(lon, lat, awind_mod, levels_wind, transform=ccrs.PlateCarree(), cmap='Spectral_r', extend='max')\n",
    "cb = fig.colorbar(cf, orientation='vertical')\n",
    "cb.set_label('m/s')\n",
    "                  \n",
    "wind = ax.barbs(lon[wind_slice], lat[wind_slice],\n",
    "                ua[wind_slice, wind_slice], va[wind_slice, wind_slice],\n",
    "                color='red', length=6,sizes=dict(emptybarb=0.25, spacing=.2, height=0.5),\n",
    "                zorder = 10, linewidth=0.95, transform= ccrs.PlateCarree())\n",
    "\n",
    "ax = fig.add_subplot(4, 1, 4, projection=projection)\n",
    "ax.set_title('Geopotential height at '+str(ulev)+ 'hPa and vertical motion at '+str(wlev)+ 'hPa', loc='center', fontsize=10)\n",
    "plot_background(ax)\n",
    "ax.set_extent(*bounds, crs=ccrs.PlateCarree())\n",
    "                \n",
    "c = ax.contour(lon, lat, z, levels_z, colors='black', linewidths=1, transform=ccrs.PlateCarree())\n",
    "ax.clabel(c, fmt='%4.1i', fontsize=10)\n",
    "\n",
    "cf = ax.contourf(lon, lat, w, levels_w, transform=ccrs.PlateCarree(), cmap='coolwarm', extend='both')\n",
    "cb = fig.colorbar(cf, orientation='vertical')\n",
    "cb.set_label('Pa/s')\n",
    "\n",
    "figname=dir_figs+'Z_vh_vg_va_w_'+str(zlev)+'_'+date\n",
    "plt.savefig(figname+'.png',bbox_inches='tight')\n",
    "\n",
    "plt.show()"
   ]
  },
  {
   "cell_type": "raw",
   "metadata": {},
   "source": [
    "Tracé des cartes de divergence à 300hPa (horizontale, géostrophique agéostrophique)."
   ]
  },
  {
   "cell_type": "code",
   "execution_count": null,
   "metadata": {
    "scrolled": false
   },
   "outputs": [],
   "source": [
    "fig = plt.figure(figsize=(10., 17.))\n",
    "fig.suptitle('Geopotential height and divergence at '+str(ulev)+' hPa : '+date, fontsize=16)\n",
    "ax = fig.add_subplot(3, 1, 1, projection=projection)\n",
    "ax.set_title('Horizontal divergence', loc='center', fontsize=10)\n",
    "plot_background(ax)\n",
    "ax.set_extent(*bounds, crs=ccrs.PlateCarree())\n",
    "\n",
    "cf = ax.contourf(lon, lat, div*10**6, levels_div, transform=ccrs.PlateCarree(), cmap='coolwarm', extend='both')\n",
    "cb = fig.colorbar(cf, orientation='horizontal')\n",
    "cb.set_label('10$^{-6}$ s$^{-1}$')\n",
    "                  \n",
    "c = ax.contour(lon, lat, z, levels_z, colors='black', linewidths=1, transform=ccrs.PlateCarree())\n",
    "ax.clabel(c, fmt='%4.1i', fontsize=10)\n",
    "\n",
    "ax = fig.add_subplot(3, 1, 2, projection=projection)\n",
    "ax.set_title('Geostrophic divergence', loc='center', fontsize=10)\n",
    "plot_background(ax)\n",
    "ax.set_extent(*bounds, crs=ccrs.PlateCarree())\n",
    "\n",
    "cf = ax.contourf(lon, lat, divg*10**6, levels_div, transform=ccrs.PlateCarree(), cmap='coolwarm', extend='both')\n",
    "cb = fig.colorbar(cf, orientation='horizontal')\n",
    "cb.set_label('10$^{-6}$ s$^{-1}$')\n",
    "\n",
    "c = ax.contour(lon, lat, z, levels_z, colors='black', linewidths=1, transform=ccrs.PlateCarree())\n",
    "ax.clabel(c, fmt='%4.1i', fontsize=10)\n",
    "\n",
    "ax = fig.add_subplot(3, 1, 3, projection=projection)\n",
    "ax.set_title('Ageostrophic divergence', loc='center', fontsize=10)\n",
    "plot_background(ax)\n",
    "ax.set_extent(*bounds, crs=ccrs.PlateCarree())\n",
    "\n",
    "cf = ax.contourf(lon, lat, diva*10**6, levels_div, transform=ccrs.PlateCarree(), cmap='coolwarm', extend='both')\n",
    "cb = fig.colorbar(cf, orientation='horizontal')\n",
    "cb.set_label('10$^{-6}$ s$^{-1}$')\n",
    "   \n",
    "c = ax.contour(lon, lat, z, levels_z, colors='black', linewidths=1, transform=ccrs.PlateCarree())\n",
    "ax.clabel(c, fmt='%4.1i', fontsize=10)\n",
    "\n",
    "figname=dir_figs+'Z_div_'+str(zlev)+'_'+date\n",
    "plt.savefig(figname+'.png',bbox_inches='tight')\n",
    "\n",
    "plt.show()"
   ]
  },
  {
   "cell_type": "raw",
   "metadata": {},
   "source": [
    "Tracé des cartes de tourbillon à 300hPa (relatif, géostrophique, agéostrophique)."
   ]
  },
  {
   "cell_type": "code",
   "execution_count": null,
   "metadata": {
    "scrolled": false
   },
   "outputs": [],
   "source": [
    "fig = plt.figure(figsize=(10., 17.))\n",
    "fig.suptitle('Geopotential height winds and vorticity at '+str(ulev)+' hPa', fontsize=16)\n",
    "ax = fig.add_subplot(3, 1, 1, projection=projection)\n",
    "ax.set_title('Geopotential height, relative vorticity and horizontal winds', loc='center', fontsize=10)\n",
    "plot_background(ax)\n",
    "ax.set_extent(*bounds, crs=ccrs.PlateCarree())\n",
    "\n",
    "cf = ax.contourf(lon, lat, vort*10**5, levels_vor, transform=ccrs.PlateCarree(), cmap='coolwarm', extend='both')\n",
    "cb = fig.colorbar(cf, orientation='horizontal')\n",
    "cb.set_label('10$^{-5}$ s$^{-1}$')\n",
    "wind = ax.barbs(lon[wind_slice], lat[wind_slice],\n",
    "                u[wind_slice, wind_slice], v[wind_slice, wind_slice],\n",
    "                color='black', length=6,sizes=dict(emptybarb=0.25, spacing=.2, height=0.5),\n",
    "                zorder = 10, linewidth=0.95, transform= ccrs.PlateCarree())\n",
    "\n",
    "c = ax.contour(lon, lat, z, levels_z, colors='black', linewidths=1, transform=ccrs.PlateCarree())\n",
    "ax.clabel(c, fmt='%4.1i', fontsize=10)\n",
    "\n",
    "ax = fig.add_subplot(3, 1, 2, projection=projection)\n",
    "ax.set_title('Geopotential height, geostrophic vorticity and geostrophic wind', loc='center', fontsize=10)\n",
    "plot_background(ax)\n",
    "ax.set_extent(*bounds, crs=ccrs.PlateCarree())\n",
    "\n",
    "cf = ax.contourf(lon, lat, vortg*10**5, levels_vor, transform=ccrs.PlateCarree(), cmap='coolwarm', extend='both')\n",
    "cb = fig.colorbar(cf, orientation='horizontal')\n",
    "cb.set_label('10$^{-5}$ s$^{-1}$')\n",
    "wind = ax.barbs(lon[wind_slice], lat[wind_slice],\n",
    "                ug[wind_slice, wind_slice], vg[wind_slice, wind_slice],\n",
    "                color='black', length=6,sizes=dict(emptybarb=0.25, spacing=.2, height=0.5),\n",
    "                zorder = 10, linewidth=0.95, transform= ccrs.PlateCarree())\n",
    "\n",
    "c = ax.contour(lon, lat, z, levels_z, colors='black', linewidths=1, transform=ccrs.PlateCarree())\n",
    "ax.clabel(c, fmt='%4.1i', fontsize=10)\n",
    "\n",
    "ax = fig.add_subplot(3, 1, 3, projection=projection)\n",
    "ax.set_title('Geopotential height, ageostrophic vorticity and ageostrophic wind', loc='center', fontsize=10)\n",
    "plot_background(ax)\n",
    "ax.set_extent(*bounds, crs=ccrs.PlateCarree())\n",
    "\n",
    "cf = ax.contourf(lon, lat, vorta*10**5, levels_vor, transform=ccrs.PlateCarree(), cmap='coolwarm', extend='both')\n",
    "cb = fig.colorbar(cf, orientation='horizontal')\n",
    "cb.set_label('10$^{-5}$ s$^{-1}$')\n",
    "wind = ax.barbs(lon[wind_slice], lat[wind_slice],\n",
    "                ua[wind_slice, wind_slice], va[wind_slice, wind_slice],\n",
    "                color='black', length=6,sizes=dict(emptybarb=0.25, spacing=.2, height=0.5),\n",
    "                zorder = 10, linewidth=0.95, transform= ccrs.PlateCarree())\n",
    "\n",
    "c = ax.contour(lon, lat, z, levels_z, colors='black', linewidths=1, transform=ccrs.PlateCarree())\n",
    "ax.clabel(c, fmt='%4.1i', fontsize=10)\n",
    "\n",
    "figname=dir_figs+'Z_vort_'+str(zlev)+'_'+date\n",
    "plt.savefig(figname+'.png',bbox_inches='tight')\n",
    "\n",
    "plt.show()"
   ]
  },
  {
   "cell_type": "raw",
   "metadata": {},
   "source": [
    "Calcul de circulation dans une région spécifique (5x5°)"
   ]
  },
  {
   "cell_type": "markdown",
   "metadata": {},
   "source": [
    "<div class=\"alert alert-warning\">\n",
    "<b>Choisir une zone de 2.5x2.5° dans une région de tourbillon relatif cyclonique. </b>\n",
    "</div>"
   ]
  },
  {
   "cell_type": "code",
   "execution_count": null,
   "metadata": {
    "scrolled": false
   },
   "outputs": [],
   "source": [
    "lon1=int(input(\"Longitude W : \"))\n",
    "lon2=int(input(\"Longitude E : \"))\n",
    "lat1=int(input(\"Latitude S : \"))\n",
    "lat2=int(input(\"Latitude N : \"))"
   ]
  },
  {
   "cell_type": "raw",
   "metadata": {},
   "source": [
    "Vérification de la zone choisie"
   ]
  },
  {
   "cell_type": "code",
   "execution_count": null,
   "metadata": {
    "scrolled": false
   },
   "outputs": [],
   "source": [
    "fig = plt.figure(figsize=(15., 8.))\n",
    "fig.suptitle('Geopotential height winds and vorticity at '+str(ulev)+' hPa', fontsize=16)\n",
    "ax = fig.add_subplot(1, 1, 1, projection=projection)\n",
    "ax.set_title('Geopotential height, relative vorticity and horizontal winds', loc='center', fontsize=10)\n",
    "plot_background(ax)\n",
    "box = sgeom.box(minx=lon1, maxx=lon2, miny=lat1, maxy=lat2)\n",
    "ax.add_geometries([box], projection, facecolor='none', edgecolor='red', linewidths=3)\n",
    "ax.set_extent(*bounds, crs=ccrs.PlateCarree())\n",
    "\n",
    "cf = ax.contourf(lon, lat, vort*10**5, levels_vor, transform=ccrs.PlateCarree(), cmap='coolwarm', extend='both')\n",
    "cb = fig.colorbar(cf, orientation='horizontal')\n",
    "cb.set_label('10$^{-5}$ s$^{-1}$')\n",
    "wind = ax.barbs(lon[wind_slice], lat[wind_slice],\n",
    "                u[wind_slice, wind_slice], v[wind_slice, wind_slice],\n",
    "                color='black', length=6,sizes=dict(emptybarb=0.25, spacing=.2, height=0.5),\n",
    "                zorder = 10, linewidth=0.95, transform= ccrs.PlateCarree())\n",
    "\n",
    "c = ax.contour(lon, lat, z, levels_z, colors='black', linewidths=1, transform=ccrs.PlateCarree())\n",
    "ax.clabel(c, fmt='%4.1i', fontsize=10)\n",
    "\n",
    "figname=dir_figs+'Z_vort_area_'+str(zlev)+'_'+date\n",
    "plt.savefig(figname+'.png',bbox_inches='tight')\n",
    "\n",
    "plt.show()"
   ]
  },
  {
   "cell_type": "markdown",
   "metadata": {},
   "source": [
    "<div class=\"alert alert-warning\">\n",
    "<b>La fonction area calcule ici la surface (en m²) incluse dans la zone choisie. Connaissant le lien entre circulation et tourbillon relatif moyen, calculer la circulation autour du circuit. </b>\n",
    "</div>"
   ]
  },
  {
   "cell_type": "code",
   "execution_count": null,
   "metadata": {},
   "outputs": [],
   "source": [
    "obj = {'type':'Polygon','coordinates':[[[lon1,lat1],[lon1,lat2],[lon2,lat2],[lon2,lat1],[lon1,lat1]]]}\n",
    "surface=area(obj)\n",
    "print('Surface incluse dans la zone choisie (m²) : ', surface)\n",
    "vort_mean=\n",
    "print('Tourbillon relatif moyen dans la zone choisie (s⁻¹) : ', np.array(\"%e\"%vort_mean))\n",
    "circulation=\n",
    "print('Circulation associée (m²s⁻¹,) : ', \"%e\"%circulation)"
   ]
  },
  {
   "cell_type": "code",
   "execution_count": null,
   "metadata": {},
   "outputs": [],
   "source": []
  }
 ],
 "metadata": {
  "kernelspec": {
   "display_name": "Python 3",
   "language": "python",
   "name": "python3"
  },
  "language_info": {
   "codemirror_mode": {
    "name": "ipython",
    "version": 3
   },
   "file_extension": ".py",
   "mimetype": "text/x-python",
   "name": "python",
   "nbconvert_exporter": "python",
   "pygments_lexer": "ipython3",
   "version": "3.7.11"
  }
 },
 "nbformat": 4,
 "nbformat_minor": 1
}
