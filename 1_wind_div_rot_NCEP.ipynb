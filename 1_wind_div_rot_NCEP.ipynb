{
 "cells": [
  {
   "cell_type": "markdown",
   "metadata": {},
   "source": [
    "# Diagnostics vent géostrophique, divergence et tourbillon\n",
    "\n",
    "Auteur : FERRY Frédéric (DESR/ENM/C3M) - novembre 2021\n",
    "\n",
    "On utilise ici les données quotidiennes NCEP de géopotentiel, vent zonal, vent méridien et vitesse verticale pour l'année 2016 : \n",
    "https://downloads.psl.noaa.gov/Datasets/ncep.reanalysis.dailyavgs/pressure/hgt.2016.nc\n",
    "https://downloads.psl.noaa.gov/Datasets/ncep.reanalysis.dailyavgs/pressure/uwnd.2016.nc\n",
    "https://downloads.psl.noaa.gov/Datasets/ncep.reanalysis.dailyavgs/pressure/vwnd.2016.nc\n",
    "https://downloads.psl.noaa.gov/Datasets/ncep.reanalysis.dailyavgs/pressure/omega.2016.nc\n",
    "\n",
    "Concepts illustrés :\n",
    "\n",
    "- Tracé de champs de géopotentiel et de vent horizontal\n",
    "- Diagnostic du vent géostrophique à partir du champ de géopotentiel\n",
    "- Calcul du vent agéostrophique et lien avec les vitesses verticales de grande échelle\n",
    "- Calcul de la divergence du vent\n",
    "- Calcul de la composante verticale du tourbillon\n",
    "- Tracé de cartes (cartopy)"
   ]
  },
  {
   "cell_type": "markdown",
   "metadata": {},
   "source": [
    "<div class=\"alert alert-danger\">\n",
    "<b>En rouge : </b> code à compléter\n",
    "</div>\n",
    "\n",
    "<div class=\"alert alert-warning\">\n",
    "<b>En jaune : </b> questions\n",
    "</div>"
   ]
  },
  {
   "cell_type": "code",
   "execution_count": 1,
   "metadata": {},
   "outputs": [],
   "source": [
    "import os\n",
    "\n",
    "import numpy as np\n",
    "\n",
    "import xarray as xr\n",
    "\n",
    "import matplotlib.pyplot as plt\n",
    "import cartopy.crs as ccrs\n",
    "from cartopy.mpl.geoaxes import GeoAxes\n",
    "from cartopy.mpl.ticker import LongitudeFormatter, LatitudeFormatter\n",
    "from mpl_toolkits.axes_grid1 import AxesGrid\n",
    "\n",
    "import shapely.geometry as sgeom\n",
    "from area import area\n",
    "\n",
    "import warnings\n",
    "warnings.filterwarnings('ignore')"
   ]
  },
  {
   "cell_type": "raw",
   "metadata": {},
   "source": [
    "Dossiers des données et des figures."
   ]
  },
  {
   "cell_type": "code",
   "execution_count": 2,
   "metadata": {},
   "outputs": [],
   "source": [
    "diri=\"./data/\"\n",
    "dir_figs=\"./figs/\"\n",
    "if not os.path.exists(dir_figs):\n",
    "    os.makedirs(dir_figs)"
   ]
  },
  {
   "cell_type": "raw",
   "metadata": {},
   "source": [
    "Constantes."
   ]
  },
  {
   "cell_type": "code",
   "execution_count": 3,
   "metadata": {},
   "outputs": [],
   "source": [
    "re=6.37e6\n",
    "g=9.81\n",
    "omega=7.292e-5"
   ]
  },
  {
   "cell_type": "markdown",
   "metadata": {},
   "source": [
    "# Ouverture des données"
   ]
  },
  {
   "cell_type": "raw",
   "metadata": {},
   "source": [
    "Date."
   ]
  },
  {
   "cell_type": "code",
   "execution_count": 4,
   "metadata": {},
   "outputs": [],
   "source": [
    "year='2016'\n",
    "month='01'\n",
    "day='15'\n",
    "date=year+'-'+month+'-'+day"
   ]
  },
  {
   "cell_type": "raw",
   "metadata": {},
   "source": [
    "Niveaux verticaux."
   ]
  },
  {
   "cell_type": "code",
   "execution_count": 5,
   "metadata": {
    "scrolled": false
   },
   "outputs": [
    {
     "name": "stdout",
     "output_type": "stream",
     "text": [
      "Choix du niveau vertical pour le vent (300, 850): 300\n",
      "Choix du niveau vertical pour le géopotentiel (300, 850) : 300\n"
     ]
    }
   ],
   "source": [
    "wlev=600\n",
    "ulev=int(input(\"Choix du niveau vertical pour le vent (300, 850): \"))\n",
    "zlev=int(input(\"Choix du niveau vertical pour le géopotentiel (300, 850) : \"))"
   ]
  },
  {
   "cell_type": "raw",
   "metadata": {},
   "source": [
    "Ouverture des données netcdf pour les niveaux verticaux et la date choisis."
   ]
  },
  {
   "cell_type": "code",
   "execution_count": 6,
   "metadata": {
    "scrolled": false
   },
   "outputs": [
    {
     "name": "stdout",
     "output_type": "stream",
     "text": [
      "<xarray.Dataset>\n",
      "Dimensions:    (lat: 73, lon: 144, nbnds: 2)\n",
      "Coordinates:\n",
      "    level      float32 300.0\n",
      "  * lat        (lat) float32 90.0 87.5 85.0 82.5 ... -82.5 -85.0 -87.5 -90.0\n",
      "  * lon        (lon) float32 0.0 2.5 5.0 7.5 10.0 ... 350.0 352.5 355.0 357.5\n",
      "    time       datetime64[ns] 2016-01-15\n",
      "Dimensions without coordinates: nbnds\n",
      "Data variables:\n",
      "    hgt        (lat, lon) float32 ...\n",
      "    time_bnds  (nbnds) float64 ...\n",
      "Attributes:\n",
      "    Conventions:    COARDS\n",
      "    title:          mean daily NMC reanalysis (2014)\n",
      "    history:        created 2013/12 by Hoop (netCDF2.3)\n",
      "    description:    Data is from NMC initialized reanalysis\\n(4x/day).  It co...\n",
      "    platform:       Model\n",
      "    References:     http://www.esrl.noaa.gov/psd/data/gridded/data.ncep.reana...\n",
      "    dataset_title:  NCEP-NCAR Reanalysis 1\n",
      "<xarray.Dataset>\n",
      "Dimensions:    (lat: 73, lon: 144, nbnds: 2)\n",
      "Coordinates:\n",
      "    level      float32 300.0\n",
      "  * lat        (lat) float32 90.0 87.5 85.0 82.5 ... -82.5 -85.0 -87.5 -90.0\n",
      "  * lon        (lon) float32 0.0 2.5 5.0 7.5 10.0 ... 350.0 352.5 355.0 357.5\n",
      "    time       datetime64[ns] 2016-01-15\n",
      "Dimensions without coordinates: nbnds\n",
      "Data variables:\n",
      "    uwnd       (lat, lon) float32 ...\n",
      "    time_bnds  (nbnds) float64 ...\n",
      "Attributes:\n",
      "    Conventions:    COARDS\n",
      "    title:          mean daily NMC reanalysis (2014)\n",
      "    history:        created 2013/12 by Hoop (netCDF2.3)\n",
      "    description:    Data is from NMC initialized reanalysis\\n(4x/day).  It co...\n",
      "    platform:       Model\n",
      "    References:     http://www.esrl.noaa.gov/psd/data/gridded/data.ncep.reana...\n",
      "    dataset_title:  NCEP-NCAR Reanalysis 1\n",
      "<xarray.Dataset>\n",
      "Dimensions:    (lat: 73, lon: 144, nbnds: 2)\n",
      "Coordinates:\n",
      "    level      float32 300.0\n",
      "  * lat        (lat) float32 90.0 87.5 85.0 82.5 ... -82.5 -85.0 -87.5 -90.0\n",
      "  * lon        (lon) float32 0.0 2.5 5.0 7.5 10.0 ... 350.0 352.5 355.0 357.5\n",
      "    time       datetime64[ns] 2016-01-15\n",
      "Dimensions without coordinates: nbnds\n",
      "Data variables:\n",
      "    vwnd       (lat, lon) float32 ...\n",
      "    time_bnds  (nbnds) float64 ...\n",
      "Attributes:\n",
      "    Conventions:    COARDS\n",
      "    title:          mean daily NMC reanalysis (2014)\n",
      "    history:        created 2013/12 by Hoop (netCDF2.3)\n",
      "    description:    Data is from NMC initialized reanalysis\\n(4x/day).  It co...\n",
      "    platform:       Model\n",
      "    References:     http://www.esrl.noaa.gov/psd/data/gridded/data.ncep.reana...\n",
      "    dataset_title:  NCEP-NCAR Reanalysis 1\n",
      "<xarray.Dataset>\n",
      "Dimensions:    (lat: 73, lon: 144, nbnds: 2)\n",
      "Coordinates:\n",
      "    level      float32 600.0\n",
      "  * lat        (lat) float32 90.0 87.5 85.0 82.5 ... -82.5 -85.0 -87.5 -90.0\n",
      "  * lon        (lon) float32 0.0 2.5 5.0 7.5 10.0 ... 350.0 352.5 355.0 357.5\n",
      "    time       datetime64[ns] 2016-01-15\n",
      "Dimensions without coordinates: nbnds\n",
      "Data variables:\n",
      "    omega      (lat, lon) float32 ...\n",
      "    time_bnds  (nbnds) float64 ...\n",
      "Attributes:\n",
      "    Conventions:    COARDS\n",
      "    title:          mean daily NMC reanalysis (2014)\n",
      "    history:        created 2013/12 by Hoop (netCDF2.3)\n",
      "    description:    Data is from NMC initialized reanalysis\\n(4x/day).  It co...\n",
      "    platform:       Model\n",
      "    References:     http://www.esrl.noaa.gov/psd/data/gridded/data.ncep.reana...\n",
      "    dataset_title:  NCEP-NCAR Reanalysis 1\n",
      "(73, 144)\n"
     ]
    }
   ],
   "source": [
    "#--  Read z, t, u, v, w data for specified vertical level\n",
    "fz    = xr.open_dataset(diri+'hgt.'+year+'.nc').sel(level=zlev).sel(time=date).squeeze()\n",
    "fu    = xr.open_dataset(diri+'uwnd.'+year+'.nc').sel(level=ulev).sel(time=date).squeeze()\n",
    "fv    = xr.open_dataset(diri+'vwnd.'+year+'.nc').sel(level=ulev).sel(time=date).squeeze()\n",
    "fw    = xr.open_dataset(diri+'omega.'+year+'.nc').sel(level=wlev).sel(time=date).squeeze()\n",
    "\n",
    "print(fz)\n",
    "print(fu)\n",
    "print(fv)\n",
    "print(fw)\n",
    "\n",
    "#--  Extract variables\n",
    "z0 = fz['hgt']\n",
    "u0 = fu['uwnd']\n",
    "v0 = fv['vwnd']\n",
    "w0 = fw['omega']\n",
    "print(z0.shape)"
   ]
  },
  {
   "cell_type": "raw",
   "metadata": {},
   "source": [
    "Fonction de conversion des longitudes 0 - 360 en -180 - 180."
   ]
  },
  {
   "cell_type": "code",
   "execution_count": 7,
   "metadata": {
    "scrolled": true
   },
   "outputs": [],
   "source": [
    "def lonflip(da):\n",
    "    lon_name = 'lon'\n",
    "    da['_longitude_adjusted'] = xr.where(\n",
    "        da[lon_name] > 180,\n",
    "        da[lon_name] - 360,\n",
    "        da[lon_name])\n",
    "    da = (\n",
    "        da\n",
    "        .swap_dims({lon_name: '_longitude_adjusted'})\n",
    "        .sel(**{'_longitude_adjusted': sorted(da._longitude_adjusted)})\n",
    "        .drop(lon_name))\n",
    "    da = da.rename({'_longitude_adjusted': lon_name})\n",
    "    return da"
   ]
  },
  {
   "cell_type": "raw",
   "metadata": {},
   "source": [
    "Conversion des longitudes en -180 à 180 pour tous les champs."
   ]
  },
  {
   "cell_type": "code",
   "execution_count": 8,
   "metadata": {
    "scrolled": true
   },
   "outputs": [
    {
     "name": "stdout",
     "output_type": "stream",
     "text": [
      "[-177.5 -175.  -172.5 -170.  -167.5 -165.  -162.5 -160.  -157.5 -155.\n",
      " -152.5 -150.  -147.5 -145.  -142.5 -140.  -137.5 -135.  -132.5 -130.\n",
      " -127.5 -125.  -122.5 -120.  -117.5 -115.  -112.5 -110.  -107.5 -105.\n",
      " -102.5 -100.   -97.5  -95.   -92.5  -90.   -87.5  -85.   -82.5  -80.\n",
      "  -77.5  -75.   -72.5  -70.   -67.5  -65.   -62.5  -60.   -57.5  -55.\n",
      "  -52.5  -50.   -47.5  -45.   -42.5  -40.   -37.5  -35.   -32.5  -30.\n",
      "  -27.5  -25.   -22.5  -20.   -17.5  -15.   -12.5  -10.    -7.5   -5.\n",
      "   -2.5    0.     2.5    5.     7.5   10.    12.5   15.    17.5   20.\n",
      "   22.5   25.    27.5   30.    32.5   35.    37.5   40.    42.5   45.\n",
      "   47.5   50.    52.5   55.    57.5   60.    62.5   65.    67.5   70.\n",
      "   72.5   75.    77.5   80.    82.5   85.    87.5   90.    92.5   95.\n",
      "   97.5  100.   102.5  105.   107.5  110.   112.5  115.   117.5  120.\n",
      "  122.5  125.   127.5  130.   132.5  135.   137.5  140.   142.5  145.\n",
      "  147.5  150.   152.5  155.   157.5  160.   162.5  165.   167.5  170.\n",
      "  172.5  175.   177.5  180. ]\n"
     ]
    }
   ],
   "source": [
    "z1 = lonflip(z0)\n",
    "u1 = lonflip(u0)\n",
    "v1 = lonflip(v0)\n",
    "w1 = lonflip(w0)\n",
    "\n",
    "lon0  = z1.lon.values\n",
    "print(lon0)"
   ]
  },
  {
   "cell_type": "raw",
   "metadata": {},
   "source": [
    "Selection des données sur un sous-domaine géographique."
   ]
  },
  {
   "cell_type": "code",
   "execution_count": 9,
   "metadata": {
    "scrolled": false
   },
   "outputs": [
    {
     "name": "stdout",
     "output_type": "stream",
     "text": [
      "(17, 45)\n",
      "Latitudes :  [70.  67.5 65.  62.5 60.  57.5 55.  52.5 50.  47.5 45.  42.5 40.  37.5\n",
      " 35.  32.5 30. ]\n",
      "Longitudes :  [-90.  -87.5 -85.  -82.5 -80.  -77.5 -75.  -72.5 -70.  -67.5 -65.  -62.5\n",
      " -60.  -57.5 -55.  -52.5 -50.  -47.5 -45.  -42.5 -40.  -37.5 -35.  -32.5\n",
      " -30.  -27.5 -25.  -22.5 -20.  -17.5 -15.  -12.5 -10.   -7.5  -5.   -2.5\n",
      "   0.    2.5   5.    7.5  10.   12.5  15.   17.5  20. ]\n"
     ]
    }
   ],
   "source": [
    "latS = 30\n",
    "latN = 70\n",
    "lonW = -90\n",
    "lonE = 20\n",
    "\n",
    "z=z1.sel(lat=slice(latN,latS)).sel(lon=slice(lonW,lonE))\n",
    "u=u1.sel(lat=slice(latN,latS)).sel(lon=slice(lonW,lonE))\n",
    "v=v1.sel(lat=slice(latN,latS)).sel(lon=slice(lonW,lonE))\n",
    "w=w1.sel(lat=slice(latN,latS)).sel(lon=slice(lonW,lonE))\n",
    "\n",
    "print(z.shape)\n",
    "\n",
    "lon  = z.lon.values\n",
    "lat  = z.lat.values\n",
    "\n",
    "print('Latitudes : ', lat)\n",
    "print('Longitudes : ', lon)"
   ]
  },
  {
   "cell_type": "markdown",
   "metadata": {},
   "source": [
    "# Diagnostics"
   ]
  },
  {
   "cell_type": "raw",
   "metadata": {},
   "source": [
    "Création d'une grille rectangulaire à partir des tableaux lon et lat (fonction meshgrid de numpy)."
   ]
  },
  {
   "cell_type": "code",
   "execution_count": 10,
   "metadata": {
    "scrolled": false
   },
   "outputs": [
    {
     "name": "stdout",
     "output_type": "stream",
     "text": [
      "(17, 45)\n",
      "(17, 45)\n"
     ]
    }
   ],
   "source": [
    "xlon,ylat=np.meshgrid(lon,lat)\n",
    "\n",
    "print(xlon.shape) # lon x lat\n",
    "print(ylat.shape) # lon x lat\n",
    "\n",
    "#print(ylat[0,0])\n",
    "#print(ylat[1,0])\n",
    "#print(xlon[0,0])\n",
    "#print(xlon[0,1])"
   ]
  },
  {
   "cell_type": "raw",
   "metadata": {},
   "source": [
    "Calcul des d𝛗 et dλ en degrés (fonction numpy.gradient)."
   ]
  },
  {
   "cell_type": "code",
   "execution_count": 11,
   "metadata": {
    "scrolled": false
   },
   "outputs": [],
   "source": [
    "dlony,dlonx=np.gradient(xlon)\n",
    "dlaty,dlatx=np.gradient(ylat)\n",
    "\n",
    "#print(dlonx)\n",
    "#print(dlaty)"
   ]
  },
  {
   "cell_type": "raw",
   "metadata": {},
   "source": [
    "Calcul des dx et dy sur la sphère en mètres."
   ]
  },
  {
   "cell_type": "markdown",
   "metadata": {},
   "source": [
    "$$dx = a cos(\\phi)d\\lambda$$\n",
    "$$dy = a d\\phi$$"
   ]
  },
  {
   "cell_type": "code",
   "execution_count": 12,
   "metadata": {
    "scrolled": false
   },
   "outputs": [],
   "source": [
    "dx=re*np.cos(ylat*np.pi/180)*dlonx*np.pi/180\n",
    "dy=re*dlaty*np.pi/180"
   ]
  },
  {
   "cell_type": "raw",
   "metadata": {},
   "source": [
    "Calcul du paramètre de Coriolis (tableau lat x lon)."
   ]
  },
  {
   "cell_type": "markdown",
   "metadata": {},
   "source": [
    "<div class=\"alert alert-danger\">\n",
    "<b>Complétez le code avec le calcul du paramètre de Coriolis (f) : </b>\n",
    "$$f = 2\\Omega sin(\\phi)$$\n",
    "</div>"
   ]
  },
  {
   "cell_type": "code",
   "execution_count": 15,
   "metadata": {
    "scrolled": false
   },
   "outputs": [
    {
     "name": "stdout",
     "output_type": "stream",
     "text": [
      "(17, 45)\n"
     ]
    }
   ],
   "source": [
    "f = 2*omega*np.sin(ylat*np.pi/180)\n",
    "print(f.shape)"
   ]
  },
  {
   "cell_type": "raw",
   "metadata": {},
   "source": [
    "Calcul des vents géostrophique et agéostrophique."
   ]
  },
  {
   "cell_type": "markdown",
   "metadata": {},
   "source": [
    "<div class=\"alert alert-danger\">\n",
    "<b>Complétez le code avec le calcul du vent géostrophique (ug, vg) : </b>\n",
    "$$u_g = -\\frac{g}{f} \\frac{\\partial z}{\\partial y}$$\n",
    "$$v_g = \\frac{g}{f} \\frac{\\partial z}{\\partial x}$$\n",
    "</div>\n",
    "\n",
    "<div class=\"alert alert-danger\">\n",
    "<b>Complétez le code avec le calcul du vent agéostrophique (ua, va) : </b>\n",
    "$$u_a = u - u_g$$\n",
    "$$v_a = v - v_g$$\n",
    "</div>"
   ]
  },
  {
   "cell_type": "code",
   "execution_count": 16,
   "metadata": {
    "scrolled": false
   },
   "outputs": [],
   "source": [
    "# calculate derivatives\n",
    "dzdx=np.gradient(z,axis=1)/dx\n",
    "dzdy=np.gradient(z,axis=0)/dy\n",
    "\n",
    "# calculate geostrophic wind\n",
    "ug = (-1)*(g/f)*dzdy\n",
    "vg = (g/f)*dzdx\n",
    "\n",
    "# calculate ageostrophic wind\n",
    "ua = u-ug\n",
    "va = v-vg"
   ]
  },
  {
   "cell_type": "raw",
   "metadata": {},
   "source": [
    "Calcul des modules des vents (horizontal, géostrophique, agéostrophique)"
   ]
  },
  {
   "cell_type": "markdown",
   "metadata": {},
   "source": [
    "<div class=\"alert alert-danger\">\n",
    "<b>Complétez le code avec le calcul des modules des vents (horizontal, géostrophique, agéostrophique). </b>\n",
    "</div>"
   ]
  },
  {
   "cell_type": "code",
   "execution_count": null,
   "metadata": {},
   "outputs": [],
   "source": [
    "hwind_mod = \n",
    "gwind_mod = \n",
    "awind_mod = "
   ]
  },
  {
   "cell_type": "raw",
   "metadata": {},
   "source": [
    "Calcul des champs de divergence (horizontale, géostrophique, agéostrophique) du vent et de tourbillon (relatif, géostrophique, agéostrophique)"
   ]
  },
  {
   "cell_type": "markdown",
   "metadata": {},
   "source": [
    "<div class=\"alert alert-danger\">\n",
    "<b>Complétez le code avec le calcul de la divergence horizontale (div) et de la divergence géostrophique (divg) :</b>\n",
    "$$div(\\vec{V}_h) = \\frac{\\partial u}{\\partial x}+\\frac{\\partial v}{\\partial y}-\\frac{v}{a}tan(\\phi)$$\n",
    "$$div(\\vec{V}_g) = \\frac{\\partial u_g}{\\partial x}+\\frac{\\partial v_g}{\\partial y}-\\frac{v_g}{a}tan(\\phi)$$\n",
    "</div>\n",
    "\n",
    "<div class=\"alert alert-danger\">\n",
    "<b>Complétez le code avec le calcul du tourbillon relatif (vort) et du tourbillon géostrophique (vortg) :</b>\n",
    "$$\\xi = \\frac{\\partial v}{\\partial x}-\\frac{\\partial u}{\\partial y}+\\frac{u}{a}tan(\\phi)$$\n",
    "$$\\xi_g = \\frac{\\partial v_g}{\\partial x}-\\frac{\\partial u_g}{\\partial y}+\\frac{u_g}{a}tan(\\phi)$$\n",
    "</div>\n",
    "\n",
    "<div class=\"alert alert-danger\">\n",
    "<b>Complétez le code avec le calcul de la divergence agéostrophique (diva) et du tourbillon agéostrophique (vorta) : </b>\n",
    "$$div(\\vec{V}_a) = \\frac{\\partial u_a}{\\partial x}+\\frac{\\partial v_a}{\\partial y}-\\frac{v_a}{a}tan(\\phi)$$\n",
    "$$\\xi_a = \\frac{\\partial v_a}{\\partial x}-\\frac{\\partial u_a}{\\partial y}+\\frac{u_a}{a}tan(\\phi)$$\n",
    "</div>"
   ]
  },
  {
   "cell_type": "code",
   "execution_count": null,
   "metadata": {},
   "outputs": [],
   "source": [
    "# calculate derivatives\n",
    "dudx=np.gradient(u,axis=1)/dx\n",
    "dvdx=np.gradient(v,axis=1)/dx\n",
    "dudy=np.gradient(u,axis=0)/dy\n",
    "dvdy=np.gradient(v,axis=0)/dy\n",
    "\n",
    "dugdx=np.gradient(ug,axis=1)/dx\n",
    "dvgdx=np.gradient(vg,axis=1)/dx\n",
    "dugdy=np.gradient(ug,axis=0)/dy\n",
    "dvgdy=np.gradient(vg,axis=0)/dy\n",
    "\n",
    "duadx=np.gradient(ua,axis=1)/dx\n",
    "dvadx=np.gradient(va,axis=1)/dx\n",
    "duady=np.gradient(ua,axis=0)/dy\n",
    "dvady=np.gradient(va,axis=0)/dy\n",
    "\n",
    "# Divergence and vorticity\n",
    "div =\n",
    "divg =\n",
    "diva =\n",
    "\n",
    "vort =\n",
    "vortg =\n",
    "vorta ="
   ]
  },
  {
   "cell_type": "markdown",
   "metadata": {},
   "source": [
    "# Paramètres de tracés de cartes"
   ]
  },
  {
   "cell_type": "raw",
   "metadata": {},
   "source": [
    "Fonction pour les fonds de carte."
   ]
  },
  {
   "cell_type": "code",
   "execution_count": null,
   "metadata": {},
   "outputs": [],
   "source": [
    "def plot_background(ax):\n",
    "    ax.coastlines()\n",
    "    ax.set_xticks(np.linspace(-180, 180, 19), crs=projection)\n",
    "    ax.set_yticks(np.linspace(-90, 90, 19), crs=projection)\n",
    "    lon_formatter = LongitudeFormatter(zero_direction_label=True)\n",
    "    lat_formatter = LatitudeFormatter()\n",
    "    ax.xaxis.set_major_formatter(lon_formatter)\n",
    "    ax.yaxis.set_major_formatter(lat_formatter)\n",
    "    return ax"
   ]
  },
  {
   "cell_type": "raw",
   "metadata": {},
   "source": [
    "Echelles de valeurs, projection et domaine de tracé."
   ]
  },
  {
   "cell_type": "code",
   "execution_count": null,
   "metadata": {},
   "outputs": [],
   "source": [
    "levels_z = np.arange(round(int(z.min()),-1),round(int(z.max()),-1),50)\n",
    "levels_w = np.arange(-0.5,0.6,0.1)\n",
    "levels_wpos = np.arange(0,0.4,0.05)\n",
    "levels_wneg = np.arange(-0.4,0,0.05)\n",
    "\n",
    "if ulev==300:\n",
    "    levels_wind = np.arange(30,72.5,2.5)\n",
    "if ulev==850:\n",
    "    levels_wind = np.arange(10,26,1)\n",
    "levels_div = np.arange(-20,21,1)\n",
    "levels_vor = np.arange(-10,11,1)\n",
    "levels_f = np.arange(0,2.1,0.1)\n",
    "\n",
    "wind_slice = slice(None, None, 2)\n",
    "\n",
    "#projection = ccrs.Orthographic(central_longitude=0, central_latitude=45)\n",
    "projection = ccrs.PlateCarree()\n",
    "bounds = [(lonW, lonE, latS, latN)]"
   ]
  },
  {
   "cell_type": "markdown",
   "metadata": {},
   "source": [
    "# Domaine et paramètre de Coriolis"
   ]
  },
  {
   "cell_type": "raw",
   "metadata": {},
   "source": [
    "Tracé du paramètre de Coriolis"
   ]
  },
  {
   "cell_type": "code",
   "execution_count": null,
   "metadata": {
    "scrolled": false
   },
   "outputs": [],
   "source": [
    "fig = plt.figure(figsize=(15., 8.))\n",
    "ax = fig.add_subplot(1, 1, 1, projection=projection)\n",
    "ax.set_title('Coriolis parameter', loc='center', fontsize=10)\n",
    "plot_background(ax)\n",
    "ax.set_extent(*bounds, crs=ccrs.PlateCarree())\n",
    "\n",
    "cf = ax.contourf(lon, lat, f*10**4, levels_f, transform=ccrs.PlateCarree(), cmap='jet', extend='both')\n",
    "cb = fig.colorbar(cf, orientation='horizontal')\n",
    "cb.set_label('10$^{-4}$ s$^{-1}$')\n",
    "c = ax.contour(lon, lat, f*10**4, levels_f, colors='black', linewidths=1, transform=ccrs.PlateCarree())\n",
    "ax.clabel(c, fmt='%4.1f', fontsize=10)\n",
    "\n",
    "figname=dir_figs+'Coriolis_'+date\n",
    "plt.savefig(figname+'.png',bbox_inches='tight')\n",
    "\n",
    "plt.show()"
   ]
  },
  {
   "cell_type": "markdown",
   "metadata": {},
   "source": [
    "# Lien masse-vent"
   ]
  },
  {
   "cell_type": "raw",
   "metadata": {},
   "source": [
    "Tracé des cartes du géopotentiel et de vents (horizontal/géostrophique)."
   ]
  },
  {
   "cell_type": "code",
   "execution_count": null,
   "metadata": {
    "scrolled": false
   },
   "outputs": [],
   "source": [
    "fig = plt.figure(figsize=(15., 10.))\n",
    "fig.suptitle('Geopotential height and winds at '+str(ulev)+' hPa : '+date, fontsize=16)\n",
    "\n",
    "ax = fig.add_subplot(211, projection=projection)\n",
    "ax.set_title('Geopotential height and horizontal wind at '+str(ulev)+' hPa', loc='center', fontsize=10)\n",
    "plot_background(ax)\n",
    "ax.set_extent(*bounds, crs=ccrs.PlateCarree())           \n",
    "c = ax.contour(lon, lat, z, levels_z, colors='black', linewidths=1, transform=ccrs.PlateCarree())\n",
    "ax.clabel(c, fmt='%4.1i', fontsize=10)\n",
    "wind = ax.barbs(lon[wind_slice], lat[wind_slice],\n",
    "                u[wind_slice, wind_slice], v[wind_slice, wind_slice],\n",
    "                color='red', length=6,sizes=dict(emptybarb=0.25, spacing=.2, height=0.5),\n",
    "                zorder = 10, linewidth=0.95, transform= ccrs.PlateCarree())\n",
    "\n",
    "ax = fig.add_subplot(212, projection=projection)\n",
    "ax.set_title('Geopotential height and geostrophic wind at '+str(ulev)+' hPa', loc='center', fontsize=10)\n",
    "plot_background(ax)\n",
    "ax.set_extent(*bounds, crs=ccrs.PlateCarree())              \n",
    "c = ax.contour(lon, lat, z, levels_z, colors='black', linewidths=1, transform=ccrs.PlateCarree())\n",
    "ax.clabel(c, fmt='%4.1i', fontsize=10)\n",
    "wind = ax.barbs(lon[wind_slice], lat[wind_slice],\n",
    "                ug[wind_slice, wind_slice], vg[wind_slice, wind_slice],\n",
    "                color='red', length=6,sizes=dict(emptybarb=0.25, spacing=.2, height=0.5),\n",
    "                zorder = 10, linewidth=0.95, transform= ccrs.PlateCarree())\n",
    "\n",
    "figname=dir_figs+'Z_vh_vg_'+str(zlev)+'_'+date\n",
    "plt.savefig(figname+'.png',bbox_inches='tight')\n",
    "\n",
    "plt.show()"
   ]
  },
  {
   "cell_type": "markdown",
   "metadata": {},
   "source": [
    "<div class=\"alert alert-warning\">\n",
    "<b>Question : </b>\n",
    "<p><b>1) </b>A grande échelle, au niveau isobare choisi, le vent géostrophique est-il une bonne approximation du vent horizontal ?</p>\n",
    "</div>"
   ]
  },
  {
   "cell_type": "markdown",
   "metadata": {},
   "source": [
    "<div class=\"alert alert-success\">\n",
    "<b>Réponse : </b>\n",
    "</div>"
   ]
  },
  {
   "cell_type": "markdown",
   "metadata": {},
   "source": [
    "# Comparaison du vent horizontal et du vent géostrophique"
   ]
  },
  {
   "cell_type": "raw",
   "metadata": {},
   "source": [
    "Tracé des cartes de géopotentiel et de vent horizontal (ajout des lignes de flux)."
   ]
  },
  {
   "cell_type": "code",
   "execution_count": null,
   "metadata": {
    "scrolled": false
   },
   "outputs": [],
   "source": [
    "fig = plt.figure(figsize=(15., 10.))\n",
    "fig.suptitle('Geopotential height and winds at '+str(ulev)+' hPa : '+date, fontsize=16)\n",
    "\n",
    "ax = fig.add_subplot(211, projection=projection)\n",
    "ax.set_title('Geopotential height and horizontal wind at '+str(ulev)+' hPa', loc='center', fontsize=10)\n",
    "plot_background(ax)\n",
    "ax.set_extent(*bounds, crs=ccrs.PlateCarree())               \n",
    "c = ax.contour(lon, lat, z, levels_z, colors='black', linewidths=1, transform=ccrs.PlateCarree())\n",
    "ax.clabel(c, fmt='%4.1i', fontsize=10)\n",
    "wind = ax.barbs(lon[wind_slice], lat[wind_slice],\n",
    "                u[wind_slice, wind_slice], v[wind_slice, wind_slice],\n",
    "                color='red', length=6,sizes=dict(emptybarb=0.25, spacing=.2, height=0.5),\n",
    "                zorder = 10, linewidth=0.95, transform= ccrs.PlateCarree())\n",
    "\n",
    "ax = fig.add_subplot(212, projection=projection)\n",
    "ax.set_title('Geopotential height and streamlines at '+str(ulev)+' hPa', loc='center', fontsize=10)\n",
    "plot_background(ax)\n",
    "ax.set_extent(*bounds, crs=ccrs.PlateCarree())\n",
    "c = ax.contour(lon, lat, z, levels_z, colors='black', linewidths=1, transform=ccrs.PlateCarree())\n",
    "ax.clabel(c, fmt='%4.1i', fontsize=10)\n",
    "c2= ax.streamplot(lon, lat, np.array(u), np.array(v), transform=ccrs.PlateCarree(),\n",
    "                  linewidth=1, density=2, color=np.array(hwind_mod))\n",
    "\n",
    "figname=dir_figs+'Z_wind_'+str(zlev)+'_'+date\n",
    "plt.savefig(figname+'.png',bbox_inches='tight')\n",
    "\n",
    "plt.show()"
   ]
  },
  {
   "cell_type": "markdown",
   "metadata": {},
   "source": [
    "<div class=\"alert alert-warning\">\n",
    "<b>Question : </b>\n",
    "<p><b>1) </b>Le vent horizontal est-il parfaitement tangent aux isohypses ? Qu'est-ce que cela traduit-il ?</p>\n",
    "</div>"
   ]
  },
  {
   "cell_type": "markdown",
   "metadata": {},
   "source": [
    "<div class=\"alert alert-success\">\n",
    "<b>Réponse : </b>\n",
    "</div>"
   ]
  },
  {
   "cell_type": "raw",
   "metadata": {},
   "source": [
    "Tracé des cartes de géopotentiel vent et du module des vents (horizontal, géostrophique)."
   ]
  },
  {
   "cell_type": "code",
   "execution_count": null,
   "metadata": {
    "scrolled": false
   },
   "outputs": [],
   "source": [
    "fig = plt.figure(figsize=(15., 10.))\n",
    "fig.suptitle('Geopotential height and winds at '+str(ulev)+' hPa : '+date, fontsize=16)\n",
    "\n",
    "ax = fig.add_subplot(211, projection=projection)\n",
    "ax.set_title('Geopotential height, horizontal wind and horizontal wind module at '+str(ulev)+' hPa',\n",
    "             loc='center', fontsize=10)\n",
    "plot_background(ax)\n",
    "ax.set_extent(*bounds, crs=ccrs.PlateCarree())    \n",
    "c = ax.contour(lon, lat, z, levels_z, colors='black', linewidths=1, transform=ccrs.PlateCarree())\n",
    "ax.clabel(c, fmt='%4.1i', fontsize=10)\n",
    "cf = ax.contourf(lon, lat, hwind_mod, levels_wind, transform=ccrs.PlateCarree(), cmap='Spectral_r', extend='max')\n",
    "cb = fig.colorbar(cf, orientation='vertical')\n",
    "cb.set_label('m/s')          \n",
    "wind = ax.barbs(lon[wind_slice], lat[wind_slice],\n",
    "                u[wind_slice, wind_slice], v[wind_slice, wind_slice],\n",
    "                color='red', length=6,sizes=dict(emptybarb=0.25, spacing=.2, height=0.5),\n",
    "                zorder = 10, linewidth=0.95, transform= ccrs.PlateCarree())\n",
    "\n",
    "ax = fig.add_subplot(212, projection=projection)\n",
    "ax.set_title('Geopotential height, geostrophic wind and geostrophic wind module at '+str(ulev)+' hPa',\n",
    "             loc='center', fontsize=10)\n",
    "plot_background(ax)\n",
    "ax.set_extent(*bounds, crs=ccrs.PlateCarree())           \n",
    "c = ax.contour(lon, lat, z, levels_z, colors='black', linewidths=1, transform=ccrs.PlateCarree())\n",
    "ax.clabel(c, fmt='%4.1i', fontsize=10)\n",
    "cf = ax.contourf(lon, lat, gwind_mod, levels_wind, transform=ccrs.PlateCarree(), cmap='Spectral_r', extend='max')\n",
    "cb = fig.colorbar(cf, orientation='vertical')\n",
    "cb.set_label('m/s')\n",
    "wind = ax.barbs(lon[wind_slice], lat[wind_slice],\n",
    "                ug[wind_slice, wind_slice], vg[wind_slice, wind_slice],\n",
    "                color='red', length=6,sizes=dict(emptybarb=0.25, spacing=.2, height=0.5),\n",
    "                zorder = 10, linewidth=0.95, transform= ccrs.PlateCarree())\n",
    "\n",
    "figname=dir_figs+'Z_vh_vg_mod_'+str(zlev)+'_'+date\n",
    "plt.savefig(figname+'.png',bbox_inches='tight')\n",
    "\n",
    "plt.show()"
   ]
  },
  {
   "cell_type": "markdown",
   "metadata": {},
   "source": [
    "<div class=\"alert alert-warning\">\n",
    "<b>Questions : </b>\n",
    "<p><b>1) </b>Dans les courbures cycloniques, l'intensité du vent géostrophique est-elle supérieure ou inférieure à celle du vent horizontal ?</p>\n",
    "<p><b>2) </b>Même question pour les courbures anticycloniques.</p>\n",
    "</div>"
   ]
  },
  {
   "cell_type": "markdown",
   "metadata": {},
   "source": [
    "<div class=\"alert alert-success\">\n",
    "<b>Réponse : </b>\n",
    "</div>"
   ]
  },
  {
   "cell_type": "markdown",
   "metadata": {},
   "source": [
    "# Ecart entre vent horizontal et vent géostrophique (vent agéostrophique)"
   ]
  },
  {
   "cell_type": "raw",
   "metadata": {},
   "source": [
    "Tracé des cartes du géopotentiel et de vents (horizontal/géostrophique/agéostrophique) + vitesse verticale."
   ]
  },
  {
   "cell_type": "code",
   "execution_count": null,
   "metadata": {
    "scrolled": false
   },
   "outputs": [],
   "source": [
    "fig = plt.figure(figsize=(10., 17.))\n",
    "fig.suptitle('Geopotential height and winds at '+str(ulev)+' hPa : '+date, fontsize=16)\n",
    "\n",
    "ax = fig.add_subplot(411, projection=projection)\n",
    "ax.set_title('Geopotential height and horizontal wind at '+str(ulev)+' hPa', loc='center', fontsize=10)\n",
    "plot_background(ax)\n",
    "ax.set_extent(*bounds, crs=ccrs.PlateCarree())       \n",
    "c = ax.contour(lon, lat, z, levels_z, colors='black', linewidths=1, transform=ccrs.PlateCarree())\n",
    "ax.clabel(c, fmt='%4.1i', fontsize=10)\n",
    "wind = ax.barbs(lon[wind_slice], lat[wind_slice],\n",
    "                u[wind_slice, wind_slice], v[wind_slice, wind_slice],\n",
    "                color='red', length=6,sizes=dict(emptybarb=0.25, spacing=.2, height=0.5),\n",
    "                zorder = 10, linewidth=0.95, transform= ccrs.PlateCarree())\n",
    "\n",
    "ax = fig.add_subplot(412, projection=projection)\n",
    "ax.set_title('Geopotential height and geostrophic wind at '+str(ulev)+' hPa', loc='center', fontsize=10)\n",
    "plot_background(ax)\n",
    "ax.set_extent(*bounds, crs=ccrs.PlateCarree())               \n",
    "c = ax.contour(lon, lat, z, levels_z, colors='black', linewidths=1, transform=ccrs.PlateCarree())\n",
    "ax.clabel(c, fmt='%4.1i', fontsize=10)\n",
    "wind = ax.barbs(lon[wind_slice], lat[wind_slice],\n",
    "                ug[wind_slice, wind_slice], vg[wind_slice, wind_slice],\n",
    "                color='red', length=6,sizes=dict(emptybarb=0.25, spacing=.2, height=0.5),\n",
    "                zorder = 10, linewidth=0.95, transform= ccrs.PlateCarree())\n",
    "\n",
    "ax = fig.add_subplot(413, projection=projection)\n",
    "ax.set_title('Geopotential height and ageostrophic wind at '+str(ulev)+' hPa', loc='center', fontsize=10)\n",
    "plot_background(ax)\n",
    "ax.set_extent(*bounds, crs=ccrs.PlateCarree())    \n",
    "c = ax.contour(lon, lat, z, levels_z, colors='black', linewidths=1, transform=ccrs.PlateCarree())\n",
    "ax.clabel(c, fmt='%4.1i', fontsize=10)\n",
    "wind = ax.barbs(lon[wind_slice], lat[wind_slice],\n",
    "                ua[wind_slice, wind_slice], va[wind_slice, wind_slice],\n",
    "                color='red', length=6,sizes=dict(emptybarb=0.25, spacing=.2, height=0.5),\n",
    "                zorder = 10, linewidth=0.95, transform= ccrs.PlateCarree())\n",
    "\n",
    "ax = fig.add_subplot(414, projection=projection)\n",
    "ax.set_title('Geopotential height at '+str(ulev)+ 'hPa and vertical motion at '+str(wlev)+ 'hPa', loc='center', fontsize=10)\n",
    "plot_background(ax)\n",
    "ax.set_extent(*bounds, crs=ccrs.PlateCarree())            \n",
    "c1 = ax.contour(lon, lat, z, levels_z, colors='black', linewidths=1, transform=ccrs.PlateCarree())\n",
    "ax.clabel(c1, fmt='%4.1i', fontsize=10)\n",
    "c2 = ax.contour(lon, lat, w, levels_wpos[levels_wpos != 0], colors='brown', linewidths=1,\n",
    "                transform=ccrs.PlateCarree()) \n",
    "c3 = ax.contour(lon, lat, w, levels_wneg[levels_wneg != 0], colors='green', linewidths=1,\n",
    "                linestyle=\"--\", transform=ccrs.PlateCarree()) \n",
    "ax.clabel(c2, fmt='%4.2f', fontsize=10)\n",
    "ax.clabel(c3, fmt='%4.2f', fontsize=10)\n",
    "\n",
    "\n",
    "figname=dir_figs+'Z_vh_vg_va_'+str(zlev)+'_w_'+str(wlev)+'_'+date\n",
    "plt.savefig(figname+'.png',bbox_inches='tight')\n",
    "\n",
    "plt.show()"
   ]
  },
  {
   "cell_type": "markdown",
   "metadata": {},
   "source": [
    "<div class=\"alert alert-warning\">\n",
    "<b>Questions : </b>\n",
    "<p><b>1) </b>Quel est l'ordre de grandeur de l'écart entre vent horizontal et le vent géostrophique ?</p>\n",
    "<p><b>2) </b>D'après le champ de vitesse verticale de grande échelle, où peut-on s'attendre à observer de la divergence en altitude associée à de la convergence en basses couches ?</p>\n",
    "</div>"
   ]
  },
  {
   "cell_type": "markdown",
   "metadata": {},
   "source": [
    "<div class=\"alert alert-success\">\n",
    "<b>Réponses : </b>\n",
    "</div>"
   ]
  },
  {
   "cell_type": "markdown",
   "metadata": {},
   "source": [
    "# Champ de divergence"
   ]
  },
  {
   "cell_type": "raw",
   "metadata": {},
   "source": [
    "Tracé des cartes de divergence (horizontale, géostrophique agéostrophique)."
   ]
  },
  {
   "cell_type": "code",
   "execution_count": null,
   "metadata": {
    "scrolled": false
   },
   "outputs": [],
   "source": [
    "fig = plt.figure(figsize=(10., 17.))\n",
    "fig.suptitle('Geopotential height and divergence at '+str(ulev)+' hPa : '+date, fontsize=16)\n",
    "\n",
    "ax = fig.add_subplot(311, projection=projection)\n",
    "ax.set_title('Horizontal divergence at '+str(ulev)+ 'hPa and vertical motion at '+str(wlev)+ 'hPa',\n",
    "             loc='center', fontsize=10)\n",
    "plot_background(ax)\n",
    "ax.set_extent(*bounds, crs=ccrs.PlateCarree())\n",
    "cf = ax.contourf(lon, lat, div*10**6, levels_div, transform=ccrs.PlateCarree(), cmap='coolwarm', extend='both')\n",
    "cb = fig.colorbar(cf, orientation='horizontal')\n",
    "cb.set_label('10$^{-6}$ s$^{-1}$')\n",
    "c = ax.contour(lon, lat, z, levels_z, colors='black', linewidths=1, transform=ccrs.PlateCarree())\n",
    "ax.clabel(c, fmt='%4.1i', fontsize=10)\n",
    "c2 = ax.contour(lon, lat, w, levels_wpos[levels_wpos != 0], colors='brown', linewidths=1,\n",
    "                transform=ccrs.PlateCarree()) \n",
    "c3 = ax.contour(lon, lat, w, levels_wneg[levels_wneg != 0], colors='green', linewidths=1,\n",
    "                linestyle=\"--\", transform=ccrs.PlateCarree()) \n",
    "ax.clabel(c2, fmt='%4.2f', fontsize=10)\n",
    "ax.clabel(c3, fmt='%4.2f', fontsize=10)\n",
    "\n",
    "ax = fig.add_subplot(312, projection=projection)\n",
    "ax.set_title('Geostrophic divergence at '+str(ulev)+ 'hPa and vertical motion at '+str(wlev)+ 'hPa',\n",
    "             loc='center', fontsize=10)\n",
    "plot_background(ax)\n",
    "ax.set_extent(*bounds, crs=ccrs.PlateCarree())\n",
    "cf = ax.contourf(lon, lat, divg*10**6, levels_div, transform=ccrs.PlateCarree(), cmap='coolwarm', extend='both')\n",
    "cb = fig.colorbar(cf, orientation='horizontal')\n",
    "cb.set_label('10$^{-6}$ s$^{-1}$')\n",
    "c = ax.contour(lon, lat, z, levels_z, colors='black', linewidths=1, transform=ccrs.PlateCarree())\n",
    "ax.clabel(c, fmt='%4.1i', fontsize=10)\n",
    "c2 = ax.contour(lon, lat, w, levels_wpos[levels_wpos != 0], colors='brown', linewidths=1,\n",
    "                transform=ccrs.PlateCarree()) \n",
    "c3 = ax.contour(lon, lat, w, levels_wneg[levels_wneg != 0], colors='green', linewidths=1,\n",
    "                linestyle=\"--\", transform=ccrs.PlateCarree()) \n",
    "ax.clabel(c2, fmt='%4.2f', fontsize=10)\n",
    "ax.clabel(c3, fmt='%4.2f', fontsize=10)\n",
    "\n",
    "ax = fig.add_subplot(313, projection=projection)\n",
    "ax.set_title('Ageostrophic divergence at '+str(ulev)+ 'hPa and vertical motion at '+str(wlev)+ 'hPa',\n",
    "             loc='center', fontsize=10)\n",
    "plot_background(ax)\n",
    "ax.set_extent(*bounds, crs=ccrs.PlateCarree())\n",
    "cf = ax.contourf(lon, lat, diva*10**6, levels_div, transform=ccrs.PlateCarree(), cmap='coolwarm', extend='both')\n",
    "cb = fig.colorbar(cf, orientation='horizontal')\n",
    "cb.set_label('10$^{-6}$ s$^{-1}$')\n",
    "c = ax.contour(lon, lat, z, levels_z, colors='black', linewidths=1, transform=ccrs.PlateCarree())\n",
    "ax.clabel(c, fmt='%4.1i', fontsize=10)\n",
    "c2 = ax.contour(lon, lat, w, levels_wpos[levels_wpos != 0], colors='brown', linewidths=1,\n",
    "                transform=ccrs.PlateCarree()) \n",
    "c3 = ax.contour(lon, lat, w, levels_wneg[levels_wneg != 0], colors='green', linewidths=1,\n",
    "                linestyle=\"--\", transform=ccrs.PlateCarree()) \n",
    "ax.clabel(c2, fmt='%4.2f', fontsize=10)\n",
    "ax.clabel(c3, fmt='%4.2f', fontsize=10)\n",
    "\n",
    "figname=dir_figs+'Z_div_'+str(zlev)+'_'+date\n",
    "plt.savefig(figname+'.png',bbox_inches='tight')\n",
    "\n",
    "plt.show()"
   ]
  },
  {
   "cell_type": "markdown",
   "metadata": {},
   "source": [
    "<div class=\"alert alert-warning\">\n",
    "<b>Question : </b>\n",
    "<p><b>1) </b>Les ascendances de grande échelle sont-elles liées aux convergences-divergences du vent géostrophique ? Justifier.</p>\n",
    "</div>"
   ]
  },
  {
   "cell_type": "markdown",
   "metadata": {},
   "source": [
    "<div class=\"alert alert-success\">\n",
    "<b>Réponse : </b>\n",
    "</div>"
   ]
  },
  {
   "cell_type": "markdown",
   "metadata": {},
   "source": [
    "# Champ de tourbillon"
   ]
  },
  {
   "cell_type": "raw",
   "metadata": {},
   "source": [
    "Tracé des cartes de tourbillon (relatif, géostrophique, agéostrophique)."
   ]
  },
  {
   "cell_type": "code",
   "execution_count": null,
   "metadata": {
    "scrolled": false
   },
   "outputs": [],
   "source": [
    "fig = plt.figure(figsize=(10., 17.))\n",
    "fig.suptitle('Geopotential height winds and vorticity at '+str(ulev)+' hPa', fontsize=16)\n",
    "\n",
    "ax = fig.add_subplot(311, projection=projection)\n",
    "ax.set_title('Geopotential height, relative vorticity and horizontal winds at '+str(ulev)+ 'hPa',\n",
    "             loc='center', fontsize=10)\n",
    "plot_background(ax)\n",
    "ax.set_extent(*bounds, crs=ccrs.PlateCarree())\n",
    "cf = ax.contourf(lon, lat, vort*10**5, levels_vor, transform=ccrs.PlateCarree(), cmap='coolwarm', extend='both')\n",
    "cb = fig.colorbar(cf, orientation='horizontal')\n",
    "cb.set_label('10$^{-5}$ s$^{-1}$')\n",
    "wind = ax.barbs(lon[wind_slice], lat[wind_slice],\n",
    "                u[wind_slice, wind_slice], v[wind_slice, wind_slice],\n",
    "                color='black', length=6,sizes=dict(emptybarb=0.25, spacing=.2, height=0.5),\n",
    "                zorder = 10, linewidth=0.95, transform= ccrs.PlateCarree())\n",
    "c = ax.contour(lon, lat, z, levels_z, colors='black', linewidths=1, transform=ccrs.PlateCarree())\n",
    "ax.clabel(c, fmt='%4.1i', fontsize=10)\n",
    "\n",
    "ax = fig.add_subplot(312, projection=projection)\n",
    "ax.set_title('Geopotential height, geostrophic vorticity and geostrophic wind at '+str(ulev)+' hPa',\n",
    "             loc='center', fontsize=10)\n",
    "plot_background(ax)\n",
    "ax.set_extent(*bounds, crs=ccrs.PlateCarree())\n",
    "cf = ax.contourf(lon, lat, vortg*10**5, levels_vor, transform=ccrs.PlateCarree(), cmap='coolwarm', extend='both')\n",
    "cb = fig.colorbar(cf, orientation='horizontal')\n",
    "cb.set_label('10$^{-5}$ s$^{-1}$')\n",
    "wind = ax.barbs(lon[wind_slice], lat[wind_slice],\n",
    "                ug[wind_slice, wind_slice], vg[wind_slice, wind_slice],\n",
    "                color='black', length=6,sizes=dict(emptybarb=0.25, spacing=.2, height=0.5),\n",
    "                zorder = 10, linewidth=0.95, transform= ccrs.PlateCarree())\n",
    "c = ax.contour(lon, lat, z, levels_z, colors='black', linewidths=1, transform=ccrs.PlateCarree())\n",
    "ax.clabel(c, fmt='%4.1i', fontsize=10)\n",
    "\n",
    "ax = fig.add_subplot(313, projection=projection)\n",
    "ax.set_title('Geopotential height, ageostrophic vorticity and ageostrophic wind at '+str(ulev)+ 'hPa',\n",
    "             loc='center', fontsize=10)\n",
    "plot_background(ax)\n",
    "ax.set_extent(*bounds, crs=ccrs.PlateCarree())\n",
    "cf = ax.contourf(lon, lat, vorta*10**5, levels_vor, transform=ccrs.PlateCarree(), cmap='coolwarm', extend='both')\n",
    "cb = fig.colorbar(cf, orientation='horizontal')\n",
    "cb.set_label('10$^{-5}$ s$^{-1}$')\n",
    "wind = ax.barbs(lon[wind_slice], lat[wind_slice],\n",
    "                ua[wind_slice, wind_slice], va[wind_slice, wind_slice],\n",
    "                color='black', length=6,sizes=dict(emptybarb=0.25, spacing=.2, height=0.5),\n",
    "                zorder = 10, linewidth=0.95, transform= ccrs.PlateCarree())\n",
    "c = ax.contour(lon, lat, z, levels_z, colors='black', linewidths=1, transform=ccrs.PlateCarree())\n",
    "ax.clabel(c, fmt='%4.1i', fontsize=10)\n",
    "\n",
    "figname=dir_figs+'Z_vort_'+str(zlev)+'_'+date\n",
    "plt.savefig(figname+'.png',bbox_inches='tight')\n",
    "\n",
    "plt.show()"
   ]
  },
  {
   "cell_type": "markdown",
   "metadata": {},
   "source": [
    "<div class=\"alert alert-warning\">\n",
    "<b>Question : </b>\n",
    "<p><b>1) </b>Le tourbillon géostrophique est-il une bonne approximation du tourbillon relatif ?</p>\n",
    "</div>"
   ]
  },
  {
   "cell_type": "markdown",
   "metadata": {},
   "source": [
    "<div class=\"alert alert-success\">\n",
    "<b>Réponse : </b>\n",
    "</div>"
   ]
  },
  {
   "cell_type": "markdown",
   "metadata": {},
   "source": [
    "# Lien circulation-tourbillon"
   ]
  },
  {
   "cell_type": "raw",
   "metadata": {},
   "source": [
    "Calcul de circulation dans une région spécifique (5x5°)"
   ]
  },
  {
   "cell_type": "markdown",
   "metadata": {},
   "source": [
    "<div class=\"alert alert-warning\">\n",
    "<b>Choisir une zone de 2.5x2.5° dans une région de tourbillon relatif cyclonique. </b>\n",
    "</div>"
   ]
  },
  {
   "cell_type": "code",
   "execution_count": null,
   "metadata": {
    "scrolled": false
   },
   "outputs": [],
   "source": [
    "lon1=int(input(\"Longitude W : \"))\n",
    "lon2=int(input(\"Longitude E : \"))\n",
    "lat1=int(input(\"Latitude S : \"))\n",
    "lat2=int(input(\"Latitude N : \"))"
   ]
  },
  {
   "cell_type": "raw",
   "metadata": {},
   "source": [
    "Vérification de la zone choisie"
   ]
  },
  {
   "cell_type": "code",
   "execution_count": null,
   "metadata": {
    "scrolled": false
   },
   "outputs": [],
   "source": [
    "fig = plt.figure(figsize=(15., 8.))\n",
    "fig.suptitle('Geopotential height winds and vorticity at '+str(ulev)+' hPa', fontsize=16)\n",
    "ax = fig.add_subplot(1, 1, 1, projection=projection)\n",
    "ax.set_title('Geopotential height, relative vorticity and horizontal winds at '+str(ulev)+' hPa',\n",
    "             loc='center', fontsize=10)\n",
    "plot_background(ax)\n",
    "box = sgeom.box(minx=lon1, maxx=lon2, miny=lat1, maxy=lat2)\n",
    "ax.add_geometries([box], projection, facecolor='none', edgecolor='green', linewidths=3)\n",
    "ax.set_extent(*bounds, crs=ccrs.PlateCarree())\n",
    "\n",
    "cf = ax.contourf(lon, lat, vort*10**5, levels_vor, transform=ccrs.PlateCarree(), cmap='coolwarm', extend='both')\n",
    "cb = fig.colorbar(cf, orientation='horizontal')\n",
    "cb.set_label('10$^{-5}$ s$^{-1}$')\n",
    "wind = ax.barbs(lon[wind_slice], lat[wind_slice],\n",
    "                u[wind_slice, wind_slice], v[wind_slice, wind_slice],\n",
    "                color='black', length=6,sizes=dict(emptybarb=0.25, spacing=.2, height=0.5),\n",
    "                zorder = 10, linewidth=0.95, transform= ccrs.PlateCarree())\n",
    "\n",
    "c = ax.contour(lon, lat, z, levels_z, colors='black', linewidths=1, transform=ccrs.PlateCarree())\n",
    "ax.clabel(c, fmt='%4.1i', fontsize=10)\n",
    "\n",
    "figname=dir_figs+'Z_vort_area_'+str(zlev)+'_'+date\n",
    "plt.savefig(figname+'.png',bbox_inches='tight')\n",
    "\n",
    "plt.show()"
   ]
  },
  {
   "cell_type": "markdown",
   "metadata": {},
   "source": [
    "<div class=\"alert alert-danger\">\n",
    "<b>La fonction area calcule ici la surface (en m²) incluse dans la zone choisie. Calculer le tourbillon relatif moyen dans la zone choisie. Connaissant le lien entre circulation et tourbillon relatif moyen, en déduire la circulation autour du circuit. </b>\n",
    "</div>"
   ]
  },
  {
   "cell_type": "code",
   "execution_count": null,
   "metadata": {},
   "outputs": [],
   "source": [
    "obj = {'type':'Polygon','coordinates':[[[lon1,lat1],[lon1,lat2],[lon2,lat2],[lon2,lat1],[lon1,lat1]]]}\n",
    "surface=area(obj)\n",
    "print('Surface incluse dans la zone choisie (m²) : ', surface)"
   ]
  },
  {
   "cell_type": "code",
   "execution_count": null,
   "metadata": {},
   "outputs": [],
   "source": []
  }
 ],
 "metadata": {
  "kernelspec": {
   "display_name": "Python 3 (ipykernel)",
   "language": "python",
   "name": "python3"
  },
  "language_info": {
   "codemirror_mode": {
    "name": "ipython",
    "version": 3
   },
   "file_extension": ".py",
   "mimetype": "text/x-python",
   "name": "python",
   "nbconvert_exporter": "python",
   "pygments_lexer": "ipython3",
   "version": "3.8.10"
  }
 },
 "nbformat": 4,
 "nbformat_minor": 1
}
